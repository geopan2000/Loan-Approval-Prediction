{
  "nbformat": 4,
  "nbformat_minor": 0,
  "metadata": {
    "colab": {
      "provenance": [],
      "authorship_tag": "ABX9TyPyUYHOU0wnt+j5WplpeJnf",
      "include_colab_link": true
    },
    "kernelspec": {
      "name": "python3",
      "display_name": "Python 3"
    },
    "language_info": {
      "name": "python"
    }
  },
  "cells": [
    {
      "cell_type": "markdown",
      "metadata": {
        "id": "view-in-github",
        "colab_type": "text"
      },
      "source": [
        "<a href=\"https://colab.research.google.com/github/geopan2000/Loan-Approval-Prediction/blob/main/LoanApprovalPrediction.ipynb\" target=\"_parent\"><img src=\"https://colab.research.google.com/assets/colab-badge.svg\" alt=\"Open In Colab\"/></a>"
      ]
    },
    {
      "cell_type": "code",
      "execution_count": 34,
      "metadata": {
        "id": "-qSSzXu6sNOP",
        "colab": {
          "base_uri": "https://localhost:8080/"
        },
        "outputId": "89614634-6c1e-43b7-dd98-0c7eb0a918ca"
      },
      "outputs": [
        {
          "output_type": "stream",
          "name": "stdout",
          "text": [
            "Cloning into 'Loan-Approval-Prediction'...\n",
            "remote: Enumerating objects: 25, done.\u001b[K\n",
            "remote: Counting objects: 100% (25/25), done.\u001b[K\n",
            "remote: Compressing objects: 100% (20/20), done.\u001b[K\n",
            "remote: Total 25 (delta 6), reused 0 (delta 0), pack-reused 0 (from 0)\u001b[K\n",
            "Receiving objects: 100% (25/25), 1.99 MiB | 5.14 MiB/s, done.\n",
            "Resolving deltas: 100% (6/6), done.\n",
            "/content/Loan-Approval-Prediction/Loan-Approval-Prediction/Loan-Approval-Prediction/Loan-Approval-Prediction\n"
          ]
        }
      ],
      "source": [
        "# Clone the GitHub repository\n",
        "!git clone https://github.com/geopan2000/Loan-Approval-Prediction.git\n",
        "\n",
        "# Change directory to the cloned repository\n",
        "%cd Loan-Approval-Prediction"
      ]
    },
    {
      "cell_type": "code",
      "source": [
        "import pandas as pd\n",
        "import numpy as np\n",
        "import xgboost as xgb\n",
        "\n",
        "!pip install scikit-optimize\n",
        "!pip install shap\n",
        "from skopt import BayesSearchCV\n",
        "from skopt.space import Real, Integer\n",
        "\n",
        "from sklearn.model_selection import KFold\n",
        "from skopt import BayesSearchCV\n",
        "from skopt.space import Real, Integer\n",
        "from sklearn.preprocessing import LabelEncoder\n",
        "import pandas as pd\n",
        "from google.colab import files"
      ],
      "metadata": {
        "id": "82ANfQ6mVA_n",
        "outputId": "cce93a72-9af1-4265-d03b-a2092c0f1a69",
        "colab": {
          "base_uri": "https://localhost:8080/"
        }
      },
      "execution_count": 35,
      "outputs": [
        {
          "output_type": "stream",
          "name": "stdout",
          "text": [
            "Requirement already satisfied: scikit-optimize in /usr/local/lib/python3.10/dist-packages (0.10.2)\n",
            "Requirement already satisfied: joblib>=0.11 in /usr/local/lib/python3.10/dist-packages (from scikit-optimize) (1.4.2)\n",
            "Requirement already satisfied: pyaml>=16.9 in /usr/local/lib/python3.10/dist-packages (from scikit-optimize) (24.9.0)\n",
            "Requirement already satisfied: numpy>=1.20.3 in /usr/local/lib/python3.10/dist-packages (from scikit-optimize) (1.26.4)\n",
            "Requirement already satisfied: scipy>=1.1.0 in /usr/local/lib/python3.10/dist-packages (from scikit-optimize) (1.13.1)\n",
            "Requirement already satisfied: scikit-learn>=1.0.0 in /usr/local/lib/python3.10/dist-packages (from scikit-optimize) (1.5.2)\n",
            "Requirement already satisfied: packaging>=21.3 in /usr/local/lib/python3.10/dist-packages (from scikit-optimize) (24.1)\n",
            "Requirement already satisfied: PyYAML in /usr/local/lib/python3.10/dist-packages (from pyaml>=16.9->scikit-optimize) (6.0.2)\n",
            "Requirement already satisfied: threadpoolctl>=3.1.0 in /usr/local/lib/python3.10/dist-packages (from scikit-learn>=1.0.0->scikit-optimize) (3.5.0)\n",
            "Requirement already satisfied: shap in /usr/local/lib/python3.10/dist-packages (0.46.0)\n",
            "Requirement already satisfied: numpy in /usr/local/lib/python3.10/dist-packages (from shap) (1.26.4)\n",
            "Requirement already satisfied: scipy in /usr/local/lib/python3.10/dist-packages (from shap) (1.13.1)\n",
            "Requirement already satisfied: scikit-learn in /usr/local/lib/python3.10/dist-packages (from shap) (1.5.2)\n",
            "Requirement already satisfied: pandas in /usr/local/lib/python3.10/dist-packages (from shap) (2.2.2)\n",
            "Requirement already satisfied: tqdm>=4.27.0 in /usr/local/lib/python3.10/dist-packages (from shap) (4.66.6)\n",
            "Requirement already satisfied: packaging>20.9 in /usr/local/lib/python3.10/dist-packages (from shap) (24.1)\n",
            "Requirement already satisfied: slicer==0.0.8 in /usr/local/lib/python3.10/dist-packages (from shap) (0.0.8)\n",
            "Requirement already satisfied: numba in /usr/local/lib/python3.10/dist-packages (from shap) (0.60.0)\n",
            "Requirement already satisfied: cloudpickle in /usr/local/lib/python3.10/dist-packages (from shap) (3.1.0)\n",
            "Requirement already satisfied: llvmlite<0.44,>=0.43.0dev0 in /usr/local/lib/python3.10/dist-packages (from numba->shap) (0.43.0)\n",
            "Requirement already satisfied: python-dateutil>=2.8.2 in /usr/local/lib/python3.10/dist-packages (from pandas->shap) (2.8.2)\n",
            "Requirement already satisfied: pytz>=2020.1 in /usr/local/lib/python3.10/dist-packages (from pandas->shap) (2024.2)\n",
            "Requirement already satisfied: tzdata>=2022.7 in /usr/local/lib/python3.10/dist-packages (from pandas->shap) (2024.2)\n",
            "Requirement already satisfied: joblib>=1.2.0 in /usr/local/lib/python3.10/dist-packages (from scikit-learn->shap) (1.4.2)\n",
            "Requirement already satisfied: threadpoolctl>=3.1.0 in /usr/local/lib/python3.10/dist-packages (from scikit-learn->shap) (3.5.0)\n",
            "Requirement already satisfied: six>=1.5 in /usr/local/lib/python3.10/dist-packages (from python-dateutil>=2.8.2->pandas->shap) (1.16.0)\n"
          ]
        }
      ]
    },
    {
      "cell_type": "code",
      "source": [
        "train_set = pd.read_csv('/content/Loan-Approval-Prediction/data/train.csv')\n",
        "test_set = pd.read_csv('/content/Loan-Approval-Prediction/data/test.csv')"
      ],
      "metadata": {
        "id": "BhQXYq0BU5CW"
      },
      "execution_count": 44,
      "outputs": []
    },
    {
      "cell_type": "code",
      "source": [
        "print(train_set.isna().sum()) #inspect train set for possible missing values\n",
        "print(test_set.isna().sum()) #inspect test set for possible missing values"
      ],
      "metadata": {
        "id": "EHnLYd_mVgkH",
        "outputId": "2fd7e0c0-cbad-4217-8d15-9128e010e4ad",
        "colab": {
          "base_uri": "https://localhost:8080/"
        }
      },
      "execution_count": 45,
      "outputs": [
        {
          "output_type": "stream",
          "name": "stdout",
          "text": [
            "id                            0\n",
            "person_age                    0\n",
            "person_income                 0\n",
            "person_home_ownership         0\n",
            "person_emp_length             0\n",
            "loan_intent                   0\n",
            "loan_grade                    0\n",
            "loan_amnt                     0\n",
            "loan_int_rate                 0\n",
            "loan_percent_income           0\n",
            "cb_person_default_on_file     0\n",
            "cb_person_cred_hist_length    0\n",
            "loan_status                   0\n",
            "dtype: int64\n",
            "id                            0\n",
            "person_age                    0\n",
            "person_income                 0\n",
            "person_home_ownership         0\n",
            "person_emp_length             0\n",
            "loan_intent                   0\n",
            "loan_grade                    0\n",
            "loan_amnt                     0\n",
            "loan_int_rate                 0\n",
            "loan_percent_income           0\n",
            "cb_person_default_on_file     0\n",
            "cb_person_cred_hist_length    0\n",
            "dtype: int64\n"
          ]
        }
      ]
    },
    {
      "cell_type": "code",
      "source": [
        "print(train_set.dtypes) #inspect data types"
      ],
      "metadata": {
        "id": "CpoBeO1XWHuB",
        "outputId": "43837700-1fd1-455f-a6e2-629eaaec9687",
        "colab": {
          "base_uri": "https://localhost:8080/"
        }
      },
      "execution_count": 46,
      "outputs": [
        {
          "output_type": "stream",
          "name": "stdout",
          "text": [
            "id                              int64\n",
            "person_age                      int64\n",
            "person_income                   int64\n",
            "person_home_ownership          object\n",
            "person_emp_length             float64\n",
            "loan_intent                    object\n",
            "loan_grade                     object\n",
            "loan_amnt                       int64\n",
            "loan_int_rate                 float64\n",
            "loan_percent_income           float64\n",
            "cb_person_default_on_file      object\n",
            "cb_person_cred_hist_length      int64\n",
            "loan_status                     int64\n",
            "dtype: object\n"
          ]
        }
      ]
    },
    {
      "cell_type": "code",
      "source": [
        "print('The size of the train set is:', train_set.shape)\n",
        "print('The size of the test set is:', test_set.shape) # the target variable is missing from the set"
      ],
      "metadata": {
        "id": "HZgme57wWMTN",
        "outputId": "e38be2ff-8926-4460-850a-8e28013edce1",
        "colab": {
          "base_uri": "https://localhost:8080/"
        }
      },
      "execution_count": 47,
      "outputs": [
        {
          "output_type": "stream",
          "name": "stdout",
          "text": [
            "The size of the train set is: (58645, 13)\n",
            "The size of the test set is: (39098, 12)\n"
          ]
        }
      ]
    },
    {
      "cell_type": "code",
      "source": [
        "sample_submission = pd.read_csv('/content/Loan-Approval-Prediction/data/sample_submission.csv')\n",
        "print(sample_submission.head())"
      ],
      "metadata": {
        "id": "BwuA9g-QWdpG",
        "outputId": "daafd82c-7830-4b1b-ab3e-0a06f11f968d",
        "colab": {
          "base_uri": "https://localhost:8080/"
        }
      },
      "execution_count": 48,
      "outputs": [
        {
          "output_type": "stream",
          "name": "stdout",
          "text": [
            "      id  loan_status\n",
            "0  58645          0.5\n",
            "1  58646          0.5\n",
            "2  58647          0.5\n",
            "3  58648          0.5\n",
            "4  58649          0.5\n"
          ]
        }
      ]
    },
    {
      "cell_type": "code",
      "source": [
        "print(train_set.info())\n",
        "print(train_set['person_home_ownership'].value_counts())\n",
        "print(train_set['loan_intent'].value_counts())\n",
        "print(train_set['loan_grade'].value_counts())\n",
        "print(train_set['cb_person_default_on_file'].value_counts())\n",
        "print(train_set['loan_status'].value_counts())"
      ],
      "metadata": {
        "id": "ItoF4LB_YacC",
        "outputId": "3d557c4e-2ba7-46e9-e036-65f881523520",
        "colab": {
          "base_uri": "https://localhost:8080/"
        }
      },
      "execution_count": 49,
      "outputs": [
        {
          "output_type": "stream",
          "name": "stdout",
          "text": [
            "<class 'pandas.core.frame.DataFrame'>\n",
            "RangeIndex: 58645 entries, 0 to 58644\n",
            "Data columns (total 13 columns):\n",
            " #   Column                      Non-Null Count  Dtype  \n",
            "---  ------                      --------------  -----  \n",
            " 0   id                          58645 non-null  int64  \n",
            " 1   person_age                  58645 non-null  int64  \n",
            " 2   person_income               58645 non-null  int64  \n",
            " 3   person_home_ownership       58645 non-null  object \n",
            " 4   person_emp_length           58645 non-null  float64\n",
            " 5   loan_intent                 58645 non-null  object \n",
            " 6   loan_grade                  58645 non-null  object \n",
            " 7   loan_amnt                   58645 non-null  int64  \n",
            " 8   loan_int_rate               58645 non-null  float64\n",
            " 9   loan_percent_income         58645 non-null  float64\n",
            " 10  cb_person_default_on_file   58645 non-null  object \n",
            " 11  cb_person_cred_hist_length  58645 non-null  int64  \n",
            " 12  loan_status                 58645 non-null  int64  \n",
            "dtypes: float64(3), int64(6), object(4)\n",
            "memory usage: 5.8+ MB\n",
            "None\n",
            "person_home_ownership\n",
            "RENT        30594\n",
            "MORTGAGE    24824\n",
            "OWN          3138\n",
            "OTHER          89\n",
            "Name: count, dtype: int64\n",
            "loan_intent\n",
            "EDUCATION            12271\n",
            "MEDICAL              10934\n",
            "PERSONAL             10016\n",
            "VENTURE              10011\n",
            "DEBTCONSOLIDATION     9133\n",
            "HOMEIMPROVEMENT       6280\n",
            "Name: count, dtype: int64\n",
            "loan_grade\n",
            "A    20984\n",
            "B    20400\n",
            "C    11036\n",
            "D     5034\n",
            "E     1009\n",
            "F      149\n",
            "G       33\n",
            "Name: count, dtype: int64\n",
            "cb_person_default_on_file\n",
            "N    49943\n",
            "Y     8702\n",
            "Name: count, dtype: int64\n",
            "loan_status\n",
            "0    50295\n",
            "1     8350\n",
            "Name: count, dtype: int64\n"
          ]
        }
      ]
    },
    {
      "cell_type": "code",
      "source": [
        "train_set['cb_person_default_on_file'].map({'Y': 1, 'N': 0})\n",
        "train_set['loan_grade'].map({'A': 1, 'B': 2, 'C': 3, 'D': 4, 'E': 5, 'F': 6, 'G': 7})\n",
        "train_set = pd.get_dummies(train_set, columns=['person_home_ownership', 'loan_intent'])\n",
        "train_set.drop(['id','loan_grade','cb_person_default_on_file'], axis=1, inplace=True)\n",
        "\n",
        "test_id=test_set['id']\n",
        "test_set['cb_person_default_on_file'].map({'Y': 1, 'N': 0})\n",
        "test_set['loan_grade'].map({'A': 1, 'B': 2, 'C': 3, 'D': 4, 'E': 5, 'F': 6, 'G': 7})\n",
        "test_set = pd.get_dummies(test_set, columns=['person_home_ownership', 'loan_intent'])\n",
        "test_set.drop(['id','loan_grade','cb_person_default_on_file'], axis=1, inplace=True)"
      ],
      "metadata": {
        "id": "I3Kgkwymc1Dp"
      },
      "execution_count": 50,
      "outputs": []
    },
    {
      "cell_type": "code",
      "source": [
        "print(train_set.info())"
      ],
      "metadata": {
        "id": "pq_F2IDleamx",
        "outputId": "bc54b489-67ea-4ec6-baa5-62191ba747e4",
        "colab": {
          "base_uri": "https://localhost:8080/"
        }
      },
      "execution_count": 51,
      "outputs": [
        {
          "output_type": "stream",
          "name": "stdout",
          "text": [
            "<class 'pandas.core.frame.DataFrame'>\n",
            "RangeIndex: 58645 entries, 0 to 58644\n",
            "Data columns (total 19 columns):\n",
            " #   Column                          Non-Null Count  Dtype  \n",
            "---  ------                          --------------  -----  \n",
            " 0   id                              58645 non-null  int64  \n",
            " 1   person_age                      58645 non-null  int64  \n",
            " 2   person_income                   58645 non-null  int64  \n",
            " 3   person_emp_length               58645 non-null  float64\n",
            " 4   loan_amnt                       58645 non-null  int64  \n",
            " 5   loan_int_rate                   58645 non-null  float64\n",
            " 6   loan_percent_income             58645 non-null  float64\n",
            " 7   cb_person_cred_hist_length      58645 non-null  int64  \n",
            " 8   loan_status                     58645 non-null  int64  \n",
            " 9   person_home_ownership_MORTGAGE  58645 non-null  bool   \n",
            " 10  person_home_ownership_OTHER     58645 non-null  bool   \n",
            " 11  person_home_ownership_OWN       58645 non-null  bool   \n",
            " 12  person_home_ownership_RENT      58645 non-null  bool   \n",
            " 13  loan_intent_DEBTCONSOLIDATION   58645 non-null  bool   \n",
            " 14  loan_intent_EDUCATION           58645 non-null  bool   \n",
            " 15  loan_intent_HOMEIMPROVEMENT     58645 non-null  bool   \n",
            " 16  loan_intent_MEDICAL             58645 non-null  bool   \n",
            " 17  loan_intent_PERSONAL            58645 non-null  bool   \n",
            " 18  loan_intent_VENTURE             58645 non-null  bool   \n",
            "dtypes: bool(10), float64(3), int64(6)\n",
            "memory usage: 4.6 MB\n",
            "None\n"
          ]
        }
      ]
    }
  ]
}