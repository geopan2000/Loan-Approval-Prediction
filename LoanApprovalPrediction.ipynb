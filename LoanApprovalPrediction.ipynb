{
  "nbformat": 4,
  "nbformat_minor": 0,
  "metadata": {
    "colab": {
      "provenance": [],
      "gpuType": "A100",
      "machine_shape": "hm",
      "authorship_tag": "ABX9TyPSgIuPq64Mt1uA7uzxRpTN",
      "include_colab_link": true
    },
    "kernelspec": {
      "name": "python3",
      "display_name": "Python 3"
    },
    "language_info": {
      "name": "python"
    },
    "accelerator": "GPU"
  },
  "cells": [
    {
      "cell_type": "markdown",
      "metadata": {
        "id": "view-in-github",
        "colab_type": "text"
      },
      "source": [
        "<a href=\"https://colab.research.google.com/github/geopan2000/Loan-Approval-Prediction/blob/main/LoanApprovalPrediction.ipynb\" target=\"_parent\"><img src=\"https://colab.research.google.com/assets/colab-badge.svg\" alt=\"Open In Colab\"/></a>"
      ]
    },
    {
      "cell_type": "code",
      "execution_count": 245,
      "metadata": {
        "id": "-qSSzXu6sNOP",
        "outputId": "48c00833-2ef3-43aa-c808-0771ada17abf",
        "colab": {
          "base_uri": "https://localhost:8080/"
        }
      },
      "outputs": [
        {
          "output_type": "stream",
          "name": "stdout",
          "text": [
            "Cloning into 'Loan-Approval-Prediction'...\n",
            "remote: Enumerating objects: 43, done.\u001b[K\n",
            "remote: Counting objects: 100% (43/43), done.\u001b[K\n",
            "remote: Compressing objects: 100% (38/38), done.\u001b[K\n",
            "remote: Total 43 (delta 18), reused 0 (delta 0), pack-reused 0 (from 0)\u001b[K\n",
            "Receiving objects: 100% (43/43), 2.08 MiB | 5.49 MiB/s, done.\n",
            "Resolving deltas: 100% (18/18), done.\n",
            "/content/Loan-Approval-Prediction/Loan-Approval-Prediction/Loan-Approval-Prediction/Loan-Approval-Prediction/Loan-Approval-Prediction/Loan-Approval-Prediction/Loan-Approval-Prediction/Loan-Approval-Prediction/Loan-Approval-Prediction/Loan-Approval-Prediction/Loan-Approval-Prediction/Loan-Approval-Prediction/Loan-Approval-Prediction/Loan-Approval-Prediction\n"
          ]
        }
      ],
      "source": [
        "# Clone the GitHub repository\n",
        "!git clone https://github.com/geopan2000/Loan-Approval-Prediction.git\n",
        "\n",
        "# Change directory to the cloned repository\n",
        "%cd Loan-Approval-Prediction"
      ]
    },
    {
      "cell_type": "code",
      "source": [
        "import pandas as pd\n",
        "import numpy as np\n",
        "import xgboost as xgb\n",
        "\n",
        "!pip install scikit-optimize\n",
        "!pip install shap\n",
        "from skopt import BayesSearchCV\n",
        "from skopt.space import Real, Integer\n",
        "\n",
        "from sklearn.model_selection import KFold\n",
        "from skopt import BayesSearchCV\n",
        "from skopt.space import Real, Integer\n",
        "from sklearn.preprocessing import LabelEncoder\n",
        "import pandas as pd\n",
        "from google.colab import files"
      ],
      "metadata": {
        "colab": {
          "base_uri": "https://localhost:8080/"
        },
        "id": "82ANfQ6mVA_n",
        "outputId": "d4814ffc-6b54-4d29-fdf3-98e01c789899"
      },
      "execution_count": 246,
      "outputs": [
        {
          "output_type": "stream",
          "name": "stdout",
          "text": [
            "Requirement already satisfied: scikit-optimize in /usr/local/lib/python3.10/dist-packages (0.10.2)\n",
            "Requirement already satisfied: joblib>=0.11 in /usr/local/lib/python3.10/dist-packages (from scikit-optimize) (1.4.2)\n",
            "Requirement already satisfied: pyaml>=16.9 in /usr/local/lib/python3.10/dist-packages (from scikit-optimize) (24.9.0)\n",
            "Requirement already satisfied: numpy>=1.20.3 in /usr/local/lib/python3.10/dist-packages (from scikit-optimize) (1.26.4)\n",
            "Requirement already satisfied: scipy>=1.1.0 in /usr/local/lib/python3.10/dist-packages (from scikit-optimize) (1.13.1)\n",
            "Requirement already satisfied: scikit-learn>=1.0.0 in /usr/local/lib/python3.10/dist-packages (from scikit-optimize) (1.5.2)\n",
            "Requirement already satisfied: packaging>=21.3 in /usr/local/lib/python3.10/dist-packages (from scikit-optimize) (24.1)\n",
            "Requirement already satisfied: PyYAML in /usr/local/lib/python3.10/dist-packages (from pyaml>=16.9->scikit-optimize) (6.0.2)\n",
            "Requirement already satisfied: threadpoolctl>=3.1.0 in /usr/local/lib/python3.10/dist-packages (from scikit-learn>=1.0.0->scikit-optimize) (3.5.0)\n",
            "Requirement already satisfied: shap in /usr/local/lib/python3.10/dist-packages (0.46.0)\n",
            "Requirement already satisfied: numpy in /usr/local/lib/python3.10/dist-packages (from shap) (1.26.4)\n",
            "Requirement already satisfied: scipy in /usr/local/lib/python3.10/dist-packages (from shap) (1.13.1)\n",
            "Requirement already satisfied: scikit-learn in /usr/local/lib/python3.10/dist-packages (from shap) (1.5.2)\n",
            "Requirement already satisfied: pandas in /usr/local/lib/python3.10/dist-packages (from shap) (2.2.2)\n",
            "Requirement already satisfied: tqdm>=4.27.0 in /usr/local/lib/python3.10/dist-packages (from shap) (4.66.6)\n",
            "Requirement already satisfied: packaging>20.9 in /usr/local/lib/python3.10/dist-packages (from shap) (24.1)\n",
            "Requirement already satisfied: slicer==0.0.8 in /usr/local/lib/python3.10/dist-packages (from shap) (0.0.8)\n",
            "Requirement already satisfied: numba in /usr/local/lib/python3.10/dist-packages (from shap) (0.60.0)\n",
            "Requirement already satisfied: cloudpickle in /usr/local/lib/python3.10/dist-packages (from shap) (3.1.0)\n",
            "Requirement already satisfied: llvmlite<0.44,>=0.43.0dev0 in /usr/local/lib/python3.10/dist-packages (from numba->shap) (0.43.0)\n",
            "Requirement already satisfied: python-dateutil>=2.8.2 in /usr/local/lib/python3.10/dist-packages (from pandas->shap) (2.8.2)\n",
            "Requirement already satisfied: pytz>=2020.1 in /usr/local/lib/python3.10/dist-packages (from pandas->shap) (2024.2)\n",
            "Requirement already satisfied: tzdata>=2022.7 in /usr/local/lib/python3.10/dist-packages (from pandas->shap) (2024.2)\n",
            "Requirement already satisfied: joblib>=1.2.0 in /usr/local/lib/python3.10/dist-packages (from scikit-learn->shap) (1.4.2)\n",
            "Requirement already satisfied: threadpoolctl>=3.1.0 in /usr/local/lib/python3.10/dist-packages (from scikit-learn->shap) (3.5.0)\n",
            "Requirement already satisfied: six>=1.5 in /usr/local/lib/python3.10/dist-packages (from python-dateutil>=2.8.2->pandas->shap) (1.16.0)\n"
          ]
        }
      ]
    },
    {
      "cell_type": "code",
      "source": [
        "train_set = pd.read_csv('/content/Loan-Approval-Prediction/data/train.csv') # Load train set\n",
        "test_set = pd.read_csv('/content/Loan-Approval-Prediction/data/test.csv') #Load test set"
      ],
      "metadata": {
        "id": "BhQXYq0BU5CW"
      },
      "execution_count": 247,
      "outputs": []
    },
    {
      "cell_type": "code",
      "source": [
        "print(train_set.isna().sum()) #inspect train set for possible missing values\n",
        "print(test_set.isna().sum()) #inspect test set for possible missing values"
      ],
      "metadata": {
        "colab": {
          "base_uri": "https://localhost:8080/"
        },
        "id": "EHnLYd_mVgkH",
        "outputId": "ff432a33-4760-42ee-9b18-6c2a731bc07f"
      },
      "execution_count": 248,
      "outputs": [
        {
          "output_type": "stream",
          "name": "stdout",
          "text": [
            "id                            0\n",
            "person_age                    0\n",
            "person_income                 0\n",
            "person_home_ownership         0\n",
            "person_emp_length             0\n",
            "loan_intent                   0\n",
            "loan_grade                    0\n",
            "loan_amnt                     0\n",
            "loan_int_rate                 0\n",
            "loan_percent_income           0\n",
            "cb_person_default_on_file     0\n",
            "cb_person_cred_hist_length    0\n",
            "loan_status                   0\n",
            "dtype: int64\n",
            "id                            0\n",
            "person_age                    0\n",
            "person_income                 0\n",
            "person_home_ownership         0\n",
            "person_emp_length             0\n",
            "loan_intent                   0\n",
            "loan_grade                    0\n",
            "loan_amnt                     0\n",
            "loan_int_rate                 0\n",
            "loan_percent_income           0\n",
            "cb_person_default_on_file     0\n",
            "cb_person_cred_hist_length    0\n",
            "dtype: int64\n"
          ]
        }
      ]
    },
    {
      "cell_type": "code",
      "source": [
        "print(train_set.dtypes) #inspect data types"
      ],
      "metadata": {
        "colab": {
          "base_uri": "https://localhost:8080/"
        },
        "id": "CpoBeO1XWHuB",
        "outputId": "05c16cba-9eae-4070-a0c6-bceceb4cfaa3"
      },
      "execution_count": 249,
      "outputs": [
        {
          "output_type": "stream",
          "name": "stdout",
          "text": [
            "id                              int64\n",
            "person_age                      int64\n",
            "person_income                   int64\n",
            "person_home_ownership          object\n",
            "person_emp_length             float64\n",
            "loan_intent                    object\n",
            "loan_grade                     object\n",
            "loan_amnt                       int64\n",
            "loan_int_rate                 float64\n",
            "loan_percent_income           float64\n",
            "cb_person_default_on_file      object\n",
            "cb_person_cred_hist_length      int64\n",
            "loan_status                     int64\n",
            "dtype: object\n"
          ]
        }
      ]
    },
    {
      "cell_type": "code",
      "source": [
        "print('The size of the train set is:', train_set.shape)\n",
        "print('The size of the test set is:', test_set.shape) # the target variable is missing from the set"
      ],
      "metadata": {
        "colab": {
          "base_uri": "https://localhost:8080/"
        },
        "id": "HZgme57wWMTN",
        "outputId": "bfee673e-bec6-4376-9b6b-45c87b55262c"
      },
      "execution_count": 250,
      "outputs": [
        {
          "output_type": "stream",
          "name": "stdout",
          "text": [
            "The size of the train set is: (58645, 13)\n",
            "The size of the test set is: (39098, 12)\n"
          ]
        }
      ]
    },
    {
      "cell_type": "markdown",
      "source": [
        "**Inspect which features are object type and what are the differnet values inside them**"
      ],
      "metadata": {
        "id": "imdRxQkm-EvX"
      }
    },
    {
      "cell_type": "code",
      "source": [
        "print(train_set.info())\n",
        "print(train_set['person_home_ownership'].value_counts())\n",
        "print(train_set['loan_intent'].value_counts())\n",
        "print(train_set['loan_grade'].value_counts())\n",
        "print(train_set['cb_person_default_on_file'].value_counts())\n",
        "print(train_set['loan_status'].value_counts())"
      ],
      "metadata": {
        "colab": {
          "base_uri": "https://localhost:8080/"
        },
        "id": "ItoF4LB_YacC",
        "outputId": "2d854d24-8ff7-491a-818d-84afdce1340e"
      },
      "execution_count": 251,
      "outputs": [
        {
          "output_type": "stream",
          "name": "stdout",
          "text": [
            "<class 'pandas.core.frame.DataFrame'>\n",
            "RangeIndex: 58645 entries, 0 to 58644\n",
            "Data columns (total 13 columns):\n",
            " #   Column                      Non-Null Count  Dtype  \n",
            "---  ------                      --------------  -----  \n",
            " 0   id                          58645 non-null  int64  \n",
            " 1   person_age                  58645 non-null  int64  \n",
            " 2   person_income               58645 non-null  int64  \n",
            " 3   person_home_ownership       58645 non-null  object \n",
            " 4   person_emp_length           58645 non-null  float64\n",
            " 5   loan_intent                 58645 non-null  object \n",
            " 6   loan_grade                  58645 non-null  object \n",
            " 7   loan_amnt                   58645 non-null  int64  \n",
            " 8   loan_int_rate               58645 non-null  float64\n",
            " 9   loan_percent_income         58645 non-null  float64\n",
            " 10  cb_person_default_on_file   58645 non-null  object \n",
            " 11  cb_person_cred_hist_length  58645 non-null  int64  \n",
            " 12  loan_status                 58645 non-null  int64  \n",
            "dtypes: float64(3), int64(6), object(4)\n",
            "memory usage: 5.8+ MB\n",
            "None\n",
            "person_home_ownership\n",
            "RENT        30594\n",
            "MORTGAGE    24824\n",
            "OWN          3138\n",
            "OTHER          89\n",
            "Name: count, dtype: int64\n",
            "loan_intent\n",
            "EDUCATION            12271\n",
            "MEDICAL              10934\n",
            "PERSONAL             10016\n",
            "VENTURE              10011\n",
            "DEBTCONSOLIDATION     9133\n",
            "HOMEIMPROVEMENT       6280\n",
            "Name: count, dtype: int64\n",
            "loan_grade\n",
            "A    20984\n",
            "B    20400\n",
            "C    11036\n",
            "D     5034\n",
            "E     1009\n",
            "F      149\n",
            "G       33\n",
            "Name: count, dtype: int64\n",
            "cb_person_default_on_file\n",
            "N    49943\n",
            "Y     8702\n",
            "Name: count, dtype: int64\n",
            "loan_status\n",
            "0    50295\n",
            "1     8350\n",
            "Name: count, dtype: int64\n"
          ]
        }
      ]
    },
    {
      "cell_type": "markdown",
      "source": [
        "**Feature Engineering**"
      ],
      "metadata": {
        "id": "jeEc6xyl-Q5Q"
      }
    },
    {
      "cell_type": "code",
      "source": [
        "train_set['cb_person_default_on_file'].map({'Y': 1, 'N': 0})\n",
        "train_set['loan_grade'].map({'A': 0.1, 'B': 0.2, 'C': 0.4, 'D': 0.5, 'E': 0.6, 'F': 0.8, 'G': 1})\n",
        "train_set = pd.get_dummies(train_set, columns=['person_home_ownership', 'loan_intent'])\n",
        "train_set.drop(['id','loan_grade','cb_person_default_on_file'], axis=1, inplace=True)\n",
        "\n",
        "test_id=test_set['id'] # coljumn needed for final submission\n",
        "test_set['cb_person_default_on_file'].map({'Y': 1, 'N': 0})\n",
        "test_set['loan_grade'].map({'A': 0.1, 'B': 0.2, 'C': 0.4, 'D': 0.5, 'E': 0.6, 'F': 0.8, 'G': 1})\n",
        "test_set = pd.get_dummies(test_set, columns=['person_home_ownership', 'loan_intent'])\n",
        "test_set.drop(['id','loan_grade','cb_person_default_on_file'], axis=1, inplace=True)"
      ],
      "metadata": {
        "id": "I3Kgkwymc1Dp"
      },
      "execution_count": 252,
      "outputs": []
    },
    {
      "cell_type": "code",
      "source": [
        "print(train_set.info()) # Inspect if all object features have been transformed"
      ],
      "metadata": {
        "colab": {
          "base_uri": "https://localhost:8080/"
        },
        "id": "pq_F2IDleamx",
        "outputId": "1564c933-de1e-4cb5-83a9-4f3b9a56762a"
      },
      "execution_count": 253,
      "outputs": [
        {
          "output_type": "stream",
          "name": "stdout",
          "text": [
            "<class 'pandas.core.frame.DataFrame'>\n",
            "RangeIndex: 58645 entries, 0 to 58644\n",
            "Data columns (total 18 columns):\n",
            " #   Column                          Non-Null Count  Dtype  \n",
            "---  ------                          --------------  -----  \n",
            " 0   person_age                      58645 non-null  int64  \n",
            " 1   person_income                   58645 non-null  int64  \n",
            " 2   person_emp_length               58645 non-null  float64\n",
            " 3   loan_amnt                       58645 non-null  int64  \n",
            " 4   loan_int_rate                   58645 non-null  float64\n",
            " 5   loan_percent_income             58645 non-null  float64\n",
            " 6   cb_person_cred_hist_length      58645 non-null  int64  \n",
            " 7   loan_status                     58645 non-null  int64  \n",
            " 8   person_home_ownership_MORTGAGE  58645 non-null  bool   \n",
            " 9   person_home_ownership_OTHER     58645 non-null  bool   \n",
            " 10  person_home_ownership_OWN       58645 non-null  bool   \n",
            " 11  person_home_ownership_RENT      58645 non-null  bool   \n",
            " 12  loan_intent_DEBTCONSOLIDATION   58645 non-null  bool   \n",
            " 13  loan_intent_EDUCATION           58645 non-null  bool   \n",
            " 14  loan_intent_HOMEIMPROVEMENT     58645 non-null  bool   \n",
            " 15  loan_intent_MEDICAL             58645 non-null  bool   \n",
            " 16  loan_intent_PERSONAL            58645 non-null  bool   \n",
            " 17  loan_intent_VENTURE             58645 non-null  bool   \n",
            "dtypes: bool(10), float64(3), int64(5)\n",
            "memory usage: 4.1 MB\n",
            "None\n"
          ]
        }
      ]
    },
    {
      "cell_type": "markdown",
      "source": [
        "**Feature Engineering: Part2-create new features that might help increasing the accuracy**"
      ],
      "metadata": {
        "id": "ItiQC9Q4_Dye"
      }
    },
    {
      "cell_type": "code",
      "source": [
        "# 1. Interaction between Income and Employment Length\n",
        "train_set['income_emp_interaction'] = train_set['person_income'] * train_set['person_emp_length']\n",
        "\n",
        "# 2. Interaction between Loan Amount and Interest Rate\n",
        "train_set['loan_interest_interaction'] = train_set['loan_amnt'] * train_set['loan_int_rate']\n",
        "\n",
        "# 3. Normalized Loan and Interest by Income\n",
        "train_set['normalized_loan'] = train_set['loan_amnt'] / (train_set['person_income'] + 1)\n",
        "train_set['normalized_interest'] = train_set['loan_int_rate'] / (train_set['person_income'] + 1)\n",
        "\n",
        "# 4. Income Stability Score (income scaled by employment length)\n",
        "train_set['income_stability_score'] = train_set['person_income'] / (train_set['person_emp_length'] + 1)\n",
        "\n",
        "# 5. Age-Adjusted Income (income divided by age)\n",
        "train_set['age_adjusted_income'] = train_set['person_income'] / (train_set['person_age'] + 1)\n",
        "\n",
        "# 6. Log-Transformed Income and Loan Amount (reducing skewness)\n",
        "train_set['log_income'] = np.log1p(train_set['person_income'])\n",
        "train_set['log_loan_amnt'] = np.log1p(train_set['loan_amnt'])\n",
        "\n",
        "# Repeat for test set:\n",
        "test_set['income_emp_interaction'] = test_set['person_income'] * test_set['person_emp_length']\n",
        "test_set['loan_interest_interaction'] = test_set['loan_amnt'] * test_set['loan_int_rate']\n",
        "test_set['normalized_loan'] = test_set['loan_amnt'] / (test_set['person_income'] + 1)\n",
        "test_set['normalized_interest'] = test_set['loan_int_rate'] / (test_set['person_income'] + 1)\n",
        "test_set['income_stability_score'] = test_set['person_income'] / (test_set['person_emp_length'] +1)\n",
        "test_set['age_adjusted_income'] = test_set['person_income'] / (test_set['person_age'] +1)\n",
        "test_set['log_income'] = np.log1p(test_set['person_income'])\n",
        "test_set['log_loan_amnt'] = np.log1p(test_set['loan_amnt'])"
      ],
      "metadata": {
        "id": "ES5PKgEjENYS"
      },
      "execution_count": 254,
      "outputs": []
    },
    {
      "cell_type": "code",
      "source": [
        "from sklearn.model_selection import train_test_split\n",
        "from imblearn.over_sampling import SMOTE\n",
        "import pandas as pd\n",
        "\n",
        "# Separate features and target\n",
        "y = train_set['loan_status']\n",
        "X = train_set.drop(['loan_status'], axis=1)\n",
        "\n",
        "# Initial split for training and validation\n",
        "X_train, X_val, y_train, y_val = train_test_split(X, y, test_size=0.1, stratify=y, random_state=42)\n",
        "\n",
        "# Initialize SMOTE to oversample the minority class\n",
        "smote = SMOTE(sampling_strategy=0.5, random_state=42)\n",
        "\n",
        "# Oversample the training set\n",
        "X_train, y_train = smote.fit_resample(X_train, y_train)\n",
        "\n",
        "# Convert back to DataFrame to maintain column names\n",
        "X_train = pd.DataFrame(X_train, columns=X.columns)\n",
        "X_val = pd.DataFrame(X_val, columns=X.columns)\n",
        "\n",
        "# Shuffle the training and validation sets after resampling\n",
        "X_train, y_train = X_train.sample(frac=1, random_state=42).reset_index(drop=True), y_train.sample(frac=1, random_state=42).reset_index(drop=True)\n",
        "X_val, y_val = X_val.sample(frac=1, random_state=42).reset_index(drop=True), y_val.sample(frac=1, random_state=42).reset_index(drop=True)\n",
        "\n",
        "# Print the count of True and False in both train and validation sets\n",
        "print(\"Training set class distribution:\\n\", y_train.value_counts())\n",
        "print(\"Validation set class distribution:\\n\", y_val.value_counts())\n"
      ],
      "metadata": {
        "id": "9heULvwrIMuj",
        "colab": {
          "base_uri": "https://localhost:8080/"
        },
        "outputId": "6c9768dd-2506-4916-a429-ceebea357272"
      },
      "execution_count": 255,
      "outputs": [
        {
          "output_type": "stream",
          "name": "stdout",
          "text": [
            "Training set class distribution:\n",
            " loan_status\n",
            "0    45265\n",
            "1    22632\n",
            "Name: count, dtype: int64\n",
            "Validation set class distribution:\n",
            " loan_status\n",
            "0    5030\n",
            "1     835\n",
            "Name: count, dtype: int64\n"
          ]
        }
      ]
    },
    {
      "cell_type": "markdown",
      "source": [
        " **Predicting Using XGB**"
      ],
      "metadata": {
        "id": "aloTLDjYdCjb"
      }
    },
    {
      "cell_type": "code",
      "source": [
        "# Check what GPU is available in Google Colab\n",
        "!nvidia-smi\n",
        "\n",
        "# Define parameter search space\n",
        "search_spaces = {\n",
        "    'learning_rate': Real(0.001, 0.5, 'uniform'),\n",
        "    'max_depth': Integer(1, 70),\n",
        "    'n_estimators': Integer(100, 900),\n",
        "    'subsample': Real(0.5, 1.0, 'uniform'),\n",
        "    'colsample_bytree': Real(0.5, 1.0, 'uniform'),\n",
        "    'gamma': Real(0, 10, 'uniform'),\n",
        "    'reg_alpha': Real(0, 10, 'uniform'),\n",
        "    'reg_lambda': Real(0, 10, 'uniform')\n",
        "}\n",
        "\n",
        "# Initialize the XGBClassifier model with GPU support\n",
        "model = xgb.XGBClassifier(\n",
        "    objective='binary:logistic',  # Use for binary classification\n",
        "    tree_method='gpu_hist',  # Use GPU for training\n",
        "    verbosity=2\n",
        ")\n",
        "\n",
        "kf = KFold(n_splits=5)  # 10-fold cross-validation\n",
        "\n",
        "# Using 'accuracy' as the scoring metric (can be changed to roc_auc, f1, etc.)\n",
        "optimizer = BayesSearchCV(\n",
        "    estimator=model,\n",
        "    search_spaces=search_spaces,\n",
        "    n_iter=8,\n",
        "    cv=kf,\n",
        "    scoring='accuracy',  # Use classification accuracy as the scoring metric\n",
        "    verbose=1,\n",
        "    n_jobs=-1,\n",
        "    return_train_score=True\n",
        ")\n",
        "\n",
        "# Fit the optimizer using X_train and y_train (classification labels, not log-transformed)\n",
        "optimizer.fit(X_train, y_train)\n",
        "\n",
        "# Get the best model\n",
        "xgb = optimizer.best_estimator_\n",
        "\n",
        "# Get cross-validation results\n",
        "cv_results = optimizer.cv_results_\n",
        "\n",
        "# Print best parameters and mean accuracy\n",
        "mean_accuracy = cv_results['mean_test_score']  # Mean accuracy for each fold\n",
        "\n",
        "print(f\"Best parameters: {optimizer.best_params_}\")\n",
        "print(f\"Mean Cross-validation Accuracy: {mean_accuracy.mean():.4f}\")\n",
        "print(f\"Cross-validation Accuracy for each iteration: {mean_accuracy}\")\n",
        "\n",
        "print(\"Optimization complete. Best XGBoost classifier model saved.\")"
      ],
      "metadata": {
        "id": "wX3MIeAGSXYP",
        "outputId": "f22dcdd9-9d7b-491b-c5c5-6a8ec2b8341f",
        "colab": {
          "base_uri": "https://localhost:8080/"
        }
      },
      "execution_count": 256,
      "outputs": [
        {
          "output_type": "stream",
          "name": "stdout",
          "text": [
            "Tue Nov 12 22:46:52 2024       \n",
            "+---------------------------------------------------------------------------------------+\n",
            "| NVIDIA-SMI 535.104.05             Driver Version: 535.104.05   CUDA Version: 12.2     |\n",
            "|-----------------------------------------+----------------------+----------------------+\n",
            "| GPU  Name                 Persistence-M | Bus-Id        Disp.A | Volatile Uncorr. ECC |\n",
            "| Fan  Temp   Perf          Pwr:Usage/Cap |         Memory-Usage | GPU-Util  Compute M. |\n",
            "|                                         |                      |               MIG M. |\n",
            "|=========================================+======================+======================|\n",
            "|   0  NVIDIA A100-SXM4-40GB          Off | 00000000:00:04.0 Off |                    0 |\n",
            "| N/A   31C    P0              46W / 400W |   2993MiB / 40960MiB |      0%      Default |\n",
            "|                                         |                      |             Disabled |\n",
            "+-----------------------------------------+----------------------+----------------------+\n",
            "                                                                                         \n",
            "+---------------------------------------------------------------------------------------+\n",
            "| Processes:                                                                            |\n",
            "|  GPU   GI   CI        PID   Type   Process name                            GPU Memory |\n",
            "|        ID   ID                                                             Usage      |\n",
            "|=======================================================================================|\n",
            "+---------------------------------------------------------------------------------------+\n",
            "Fitting 5 folds for each of 1 candidates, totalling 5 fits\n",
            "Fitting 5 folds for each of 1 candidates, totalling 5 fits\n",
            "Fitting 5 folds for each of 1 candidates, totalling 5 fits\n",
            "Fitting 5 folds for each of 1 candidates, totalling 5 fits\n",
            "Fitting 5 folds for each of 1 candidates, totalling 5 fits\n",
            "Fitting 5 folds for each of 1 candidates, totalling 5 fits\n",
            "Fitting 5 folds for each of 1 candidates, totalling 5 fits\n",
            "Fitting 5 folds for each of 1 candidates, totalling 5 fits\n"
          ]
        },
        {
          "output_type": "stream",
          "name": "stderr",
          "text": [
            "/usr/local/lib/python3.10/dist-packages/xgboost/core.py:158: UserWarning: [22:48:40] WARNING: /workspace/src/common/error_msg.cc:27: The tree method `gpu_hist` is deprecated since 2.0.0. To use GPU training, set the `device` parameter to CUDA instead.\n",
            "\n",
            "    E.g. tree_method = \"hist\", device = \"cuda\"\n",
            "\n",
            "  warnings.warn(smsg, UserWarning)\n"
          ]
        },
        {
          "output_type": "stream",
          "name": "stdout",
          "text": [
            "Best parameters: OrderedDict([('colsample_bytree', 0.7567782723534238), ('gamma', 4.544186977370216), ('learning_rate', 0.4143749675321093), ('max_depth', 6), ('n_estimators', 514), ('reg_alpha', 1.027752805661253), ('reg_lambda', 0.9697033007873981), ('subsample', 0.6419711770066949)])\n",
            "Mean Cross-validation Accuracy: 0.9507\n",
            "Cross-validation Accuracy for each iteration: [0.95152951 0.94985051 0.95226594 0.94883426 0.94815676 0.9534147\n",
            " 0.94780329 0.95357674]\n",
            "Optimization complete. Best XGBoost classifier model saved.\n"
          ]
        }
      ]
    },
    {
      "cell_type": "code",
      "source": [
        "y_hat_XGB_train = xgb.predict(X_train)\n",
        "print(classification_report(y_train, y_hat_XGB_train))\n",
        "\n",
        "y_hat_XGB_val = xgb.predict(X_val)\n",
        "print(classification_report(y_val, y_hat_XGB_val))\n",
        "\n",
        "y_hat_XGB_test = xgb.predict(test_set)"
      ],
      "metadata": {
        "id": "FxA2U3R8f5Zb",
        "outputId": "332eca54-9d60-4321-88a8-db5b22625f71",
        "colab": {
          "base_uri": "https://localhost:8080/"
        }
      },
      "execution_count": 257,
      "outputs": [
        {
          "output_type": "stream",
          "name": "stdout",
          "text": [
            "              precision    recall  f1-score   support\n",
            "\n",
            "           0       0.95      0.99      0.97     45265\n",
            "           1       0.97      0.90      0.94     22632\n",
            "\n",
            "    accuracy                           0.96     67897\n",
            "   macro avg       0.96      0.95      0.95     67897\n",
            "weighted avg       0.96      0.96      0.96     67897\n",
            "\n",
            "              precision    recall  f1-score   support\n",
            "\n",
            "           0       0.96      0.99      0.97      5030\n",
            "           1       0.90      0.75      0.82       835\n",
            "\n",
            "    accuracy                           0.95      5865\n",
            "   macro avg       0.93      0.87      0.90      5865\n",
            "weighted avg       0.95      0.95      0.95      5865\n",
            "\n"
          ]
        },
        {
          "output_type": "stream",
          "name": "stderr",
          "text": [
            "/usr/local/lib/python3.10/dist-packages/xgboost/core.py:158: UserWarning: [22:48:51] WARNING: /workspace/src/common/error_msg.cc:27: The tree method `gpu_hist` is deprecated since 2.0.0. To use GPU training, set the `device` parameter to CUDA instead.\n",
            "\n",
            "    E.g. tree_method = \"hist\", device = \"cuda\"\n",
            "\n",
            "  warnings.warn(smsg, UserWarning)\n"
          ]
        }
      ]
    },
    {
      "cell_type": "markdown",
      "source": [
        " **Predicting using Logistic Regression**"
      ],
      "metadata": {
        "id": "JsDLi-Tyy82d"
      }
    },
    {
      "cell_type": "code",
      "source": [
        "from sklearn import linear_model\n",
        "from sklearn.metrics import classification_report\n",
        "\n",
        "logr = linear_model.LogisticRegression(max_iter=20000, C=5)\n",
        "logr.fit(X_train,y_train)\n",
        "\n",
        "y_hat_LR_train = logr.predict(X_train)\n",
        "print(classification_report(y_train, y_hat_LR_train))\n",
        "\n",
        "y_hat_LR_val = logr.predict(X_val)\n",
        "print(classification_report(y_val, y_hat_LR_val))\n",
        "\n",
        "y_hat_LR_test = logr.predict(test_set)"
      ],
      "metadata": {
        "colab": {
          "base_uri": "https://localhost:8080/"
        },
        "id": "INf5BMHCMqjz",
        "outputId": "70aac889-19c1-403c-f583-b7b65e4c85e2"
      },
      "execution_count": 259,
      "outputs": [
        {
          "output_type": "stream",
          "name": "stdout",
          "text": [
            "              precision    recall  f1-score   support\n",
            "\n",
            "           0       0.88      0.92      0.90     45265\n",
            "           1       0.82      0.75      0.78     22632\n",
            "\n",
            "    accuracy                           0.86     67897\n",
            "   macro avg       0.85      0.83      0.84     67897\n",
            "weighted avg       0.86      0.86      0.86     67897\n",
            "\n",
            "              precision    recall  f1-score   support\n",
            "\n",
            "           0       0.94      0.91      0.93      5030\n",
            "           1       0.55      0.63      0.58       835\n",
            "\n",
            "    accuracy                           0.87      5865\n",
            "   macro avg       0.74      0.77      0.75      5865\n",
            "weighted avg       0.88      0.87      0.88      5865\n",
            "\n"
          ]
        },
        {
          "output_type": "stream",
          "name": "stderr",
          "text": [
            "/usr/local/lib/python3.10/dist-packages/sklearn/linear_model/_logistic.py:469: ConvergenceWarning: lbfgs failed to converge (status=1):\n",
            "STOP: TOTAL NO. of f AND g EVALUATIONS EXCEEDS LIMIT.\n",
            "\n",
            "Increase the number of iterations (max_iter) or scale the data as shown in:\n",
            "    https://scikit-learn.org/stable/modules/preprocessing.html\n",
            "Please also refer to the documentation for alternative solver options:\n",
            "    https://scikit-learn.org/stable/modules/linear_model.html#logistic-regression\n",
            "  n_iter_i = _check_optimize_result(\n"
          ]
        }
      ]
    },
    {
      "cell_type": "markdown",
      "source": [
        "** Adding the predictions as new features**"
      ],
      "metadata": {
        "id": "E0q-BEjHzMU-"
      }
    },
    {
      "cell_type": "code",
      "source": [
        "X_train['pred_XGB'] = y_hat_XGB_train\n",
        "X_val['pred_XGB'] = y_hat_XGB_val\n",
        "test_set['pred_XGB'] = y_hat_XGB_test\n",
        "\n",
        "X_train['pred_LR'] = y_hat_LR_train\n",
        "X_val['pred_LR'] = y_hat_LR_val\n",
        "test_set['pred_LR'] = y_hat_LR_test"
      ],
      "metadata": {
        "id": "DvAQC0VzhQRZ"
      },
      "execution_count": 225,
      "outputs": []
    },
    {
      "cell_type": "code",
      "source": [
        "# Check what GPU is available in Google Colab\n",
        "!nvidia-smi\n",
        "\n",
        "# Define parameter search space\n",
        "search_spaces = {\n",
        "    'learning_rate': Real(0.001, 0.5, 'uniform'),\n",
        "    'max_depth': Integer(1, 70),\n",
        "    'n_estimators': Integer(100, 900),\n",
        "    'subsample': Real(0.5, 1.0, 'uniform'),\n",
        "    'colsample_bytree': Real(0.5, 1.0, 'uniform'),\n",
        "    'gamma': Real(0, 10, 'uniform'),\n",
        "}\n",
        "\n",
        "# Initialize the XGBClassifier model with GPU support\n",
        "model = xgb.XGBClassifier(\n",
        "    objective='binary:logistic',  # Use for binary classification\n",
        "    tree_method='gpu_hist',  # Use GPU for training\n",
        "    verbosity=2\n",
        ")\n",
        "\n",
        "kf = KFold(n_splits=5)  # 10-fold cross-validation\n",
        "\n",
        "# Using 'accuracy' as the scoring metric (can be changed to roc_auc, f1, etc.)\n",
        "optimizer = BayesSearchCV(\n",
        "    estimator=model,\n",
        "    search_spaces=search_spaces,\n",
        "    n_iter=32,\n",
        "    cv=kf,\n",
        "    scoring='accuracy',  # Use classification accuracy as the scoring metric\n",
        "    verbose=1,\n",
        "    n_jobs=-1,\n",
        "    return_train_score=True\n",
        ")\n",
        "\n",
        "# Fit the optimizer using X_train and y_train (classification labels, not log-transformed)\n",
        "optimizer.fit(X_train, y_train)\n",
        "\n",
        "# Get the best model\n",
        "best_model = optimizer.best_estimator_\n",
        "\n",
        "# Get cross-validation results\n",
        "cv_results = optimizer.cv_results_\n",
        "\n",
        "# Print best parameters and mean accuracy\n",
        "mean_accuracy = cv_results['mean_test_score']  # Mean accuracy for each fold\n",
        "\n",
        "print(f\"Best parameters: {optimizer.best_params_}\")\n",
        "print(f\"Mean Cross-validation Accuracy: {mean_accuracy.mean():.4f}\")\n",
        "print(f\"Cross-validation Accuracy for each iteration: {mean_accuracy}\")\n",
        "\n",
        "print(\"Optimization complete. Best XGBoost classifier model saved.\")"
      ],
      "metadata": {
        "id": "jswbZElx5Han",
        "outputId": "38661eee-e96b-4690-9bed-b11b2556cf2d",
        "colab": {
          "base_uri": "https://localhost:8080/"
        }
      },
      "execution_count": 86,
      "outputs": [
        {
          "output_type": "stream",
          "name": "stdout",
          "text": [
            "Tue Nov 12 19:41:17 2024       \n",
            "+---------------------------------------------------------------------------------------+\n",
            "| NVIDIA-SMI 535.104.05             Driver Version: 535.104.05   CUDA Version: 12.2     |\n",
            "|-----------------------------------------+----------------------+----------------------+\n",
            "| GPU  Name                 Persistence-M | Bus-Id        Disp.A | Volatile Uncorr. ECC |\n",
            "| Fan  Temp   Perf          Pwr:Usage/Cap |         Memory-Usage | GPU-Util  Compute M. |\n",
            "|                                         |                      |               MIG M. |\n",
            "|=========================================+======================+======================|\n",
            "|   0  NVIDIA A100-SXM4-40GB          Off | 00000000:00:04.0 Off |                    0 |\n",
            "| N/A   30C    P0              39W / 400W |      5MiB / 40960MiB |      0%      Default |\n",
            "|                                         |                      |             Disabled |\n",
            "+-----------------------------------------+----------------------+----------------------+\n",
            "                                                                                         \n",
            "+---------------------------------------------------------------------------------------+\n",
            "| Processes:                                                                            |\n",
            "|  GPU   GI   CI        PID   Type   Process name                            GPU Memory |\n",
            "|        ID   ID                                                             Usage      |\n",
            "|=======================================================================================|\n",
            "|  No running processes found                                                           |\n",
            "+---------------------------------------------------------------------------------------+\n",
            "Fitting 5 folds for each of 1 candidates, totalling 5 fits\n",
            "Fitting 5 folds for each of 1 candidates, totalling 5 fits\n",
            "Fitting 5 folds for each of 1 candidates, totalling 5 fits\n",
            "Fitting 5 folds for each of 1 candidates, totalling 5 fits\n",
            "Fitting 5 folds for each of 1 candidates, totalling 5 fits\n",
            "Fitting 5 folds for each of 1 candidates, totalling 5 fits\n",
            "Fitting 5 folds for each of 1 candidates, totalling 5 fits\n",
            "Fitting 5 folds for each of 1 candidates, totalling 5 fits\n",
            "Fitting 5 folds for each of 1 candidates, totalling 5 fits\n",
            "Fitting 5 folds for each of 1 candidates, totalling 5 fits\n",
            "Fitting 5 folds for each of 1 candidates, totalling 5 fits\n",
            "Fitting 5 folds for each of 1 candidates, totalling 5 fits\n",
            "Fitting 5 folds for each of 1 candidates, totalling 5 fits\n",
            "Fitting 5 folds for each of 1 candidates, totalling 5 fits\n",
            "Fitting 5 folds for each of 1 candidates, totalling 5 fits\n",
            "Fitting 5 folds for each of 1 candidates, totalling 5 fits\n",
            "Fitting 5 folds for each of 1 candidates, totalling 5 fits\n",
            "Fitting 5 folds for each of 1 candidates, totalling 5 fits\n",
            "Fitting 5 folds for each of 1 candidates, totalling 5 fits\n",
            "Fitting 5 folds for each of 1 candidates, totalling 5 fits\n",
            "Fitting 5 folds for each of 1 candidates, totalling 5 fits\n",
            "Fitting 5 folds for each of 1 candidates, totalling 5 fits\n",
            "Fitting 5 folds for each of 1 candidates, totalling 5 fits\n",
            "Fitting 5 folds for each of 1 candidates, totalling 5 fits\n",
            "Fitting 5 folds for each of 1 candidates, totalling 5 fits\n",
            "Fitting 5 folds for each of 1 candidates, totalling 5 fits\n",
            "Fitting 5 folds for each of 1 candidates, totalling 5 fits\n",
            "Fitting 5 folds for each of 1 candidates, totalling 5 fits\n",
            "Fitting 5 folds for each of 1 candidates, totalling 5 fits\n",
            "Fitting 5 folds for each of 1 candidates, totalling 5 fits\n",
            "Fitting 5 folds for each of 1 candidates, totalling 5 fits\n",
            "Fitting 5 folds for each of 1 candidates, totalling 5 fits\n"
          ]
        },
        {
          "output_type": "stream",
          "name": "stderr",
          "text": [
            "/usr/local/lib/python3.10/dist-packages/xgboost/core.py:158: UserWarning: [19:48:07] WARNING: /workspace/src/common/error_msg.cc:27: The tree method `gpu_hist` is deprecated since 2.0.0. To use GPU training, set the `device` parameter to CUDA instead.\n",
            "\n",
            "    E.g. tree_method = \"hist\", device = \"cuda\"\n",
            "\n",
            "  warnings.warn(smsg, UserWarning)\n"
          ]
        },
        {
          "output_type": "stream",
          "name": "stdout",
          "text": [
            "Best parameters: OrderedDict([('colsample_bytree', 0.561067077347635), ('gamma', 6.8189327889639815), ('learning_rate', 0.19029188220857188), ('max_depth', 44), ('n_estimators', 770), ('subsample', 0.8841192599622616)])\n",
            "Mean Cross-validation Accuracy: 0.9454\n",
            "Cross-validation Accuracy for each iteration: [0.96208791 0.96227738 0.96225843 0.95445244 0.96227738 0.96229632\n",
            " 0.96227738 0.95560818 0.96218264 0.96172793 0.96227738 0.95765441\n",
            " 0.85761652 0.96222054 0.96227738 0.96223948 0.85761652 0.96227738\n",
            " 0.86871921 0.96000379 0.96142478 0.96210686 0.96227738 0.85761652\n",
            " 0.96229632 0.96095112 0.96227738 0.95951118 0.85761652 0.96227738\n",
            " 0.96167109 0.96220159]\n",
            "Optimization complete. Best XGBoost classifier model saved.\n"
          ]
        }
      ]
    },
    {
      "cell_type": "code",
      "source": [
        "# Initialize the XGBClassifier model\n",
        "xgbc_meta = xgb.XGBClassifier(\n",
        "    colsample_bytree = 0.561067077347635,\n",
        "    gamma= 6.8189327889639815,\n",
        "    learning_rate= 0.19029188220857188,\n",
        "    max_depth= 44,\n",
        "    n_estimators= 770,\n",
        "    subsample= 0.8841,\n",
        "    objective='binary:logistic',\n",
        "    tree_method='hist',\n",
        "    verbosity=2\n",
        ")\n",
        "\n",
        "xgbc_meta.fit(X_train, y_train)\n",
        "\n",
        "y_hat_XGB2_train = xgbc_meta.predict(X_train)\n",
        "print(classification_report(y_train, y_hat_XGB2_train))\n",
        "\n",
        "y_hat_XGB2_val = xgbc_meta.predict(X_val)\n",
        "print(classification_report(y_val, y_hat_XGB2_val))"
      ],
      "metadata": {
        "colab": {
          "base_uri": "https://localhost:8080/"
        },
        "id": "M20lEz1jhbX4",
        "outputId": "7c6c1c97-be32-4195-e3ed-cba9ec5e9cef"
      },
      "execution_count": 87,
      "outputs": [
        {
          "output_type": "stream",
          "name": "stdout",
          "text": [
            "              precision    recall  f1-score   support\n",
            "\n",
            "           0       0.96      0.99      0.98     45265\n",
            "           1       0.95      0.78      0.85      7515\n",
            "\n",
            "    accuracy                           0.96     52780\n",
            "   macro avg       0.96      0.88      0.92     52780\n",
            "weighted avg       0.96      0.96      0.96     52780\n",
            "\n",
            "              precision    recall  f1-score   support\n",
            "\n",
            "           0       0.95      0.99      0.97      5030\n",
            "           1       0.92      0.72      0.81       835\n",
            "\n",
            "    accuracy                           0.95      5865\n",
            "   macro avg       0.94      0.85      0.89      5865\n",
            "weighted avg       0.95      0.95      0.95      5865\n",
            "\n"
          ]
        }
      ]
    },
    {
      "cell_type": "code",
      "source": [
        "import matplotlib.pyplot as plt\n",
        "from sklearn.metrics import roc_curve, auc\n",
        "\n",
        "# Plotting ROC for each model\n",
        "plt.figure(figsize=(10, 8))\n",
        "\n",
        "# Model 1\n",
        "fpr1, tpr1, _ = roc_curve(y_val, y_hat_XGB_val)\n",
        "roc_auc1 = auc(fpr1, tpr1)\n",
        "plt.plot(fpr1, tpr1, label=f'XGBC (AUC = {roc_auc1:.2f})')\n",
        "\n",
        "# Model 2\n",
        "fpr2, tpr2, _ = roc_curve(y_val, y_hat_LR_val)\n",
        "roc_auc2 = auc(fpr2, tpr2)\n",
        "plt.plot(fpr2, tpr2, label=f'LOGR (AUC = {roc_auc2:.2f})')\n",
        "\n",
        "# Model 3\n",
        "fpr3, tpr3, _ = roc_curve(y_val, y_hat_XGB2_val)\n",
        "roc_auc3 = auc(fpr3, tpr3)\n",
        "plt.plot(fpr3, tpr3, label=f'META_XGBC (AUC = {roc_auc3:.2f})')\n",
        "\n",
        "# Plot details\n",
        "plt.plot([0, 1], [0, 1], 'k--', label='Chance')  # Diagonal line\n",
        "plt.xlabel('False Positive Rate')\n",
        "plt.ylabel('True Positive Rate')\n",
        "plt.title('ROC Curves for Three Models')\n",
        "plt.legend(loc='lower right')\n",
        "plt.grid()\n",
        "plt.show()\n"
      ],
      "metadata": {
        "id": "hV9ZXNuqArUG",
        "outputId": "e1d97055-3af6-4d88-e596-a1426b2eecf4",
        "colab": {
          "base_uri": "https://localhost:8080/",
          "height": 1000
        }
      },
      "execution_count": 226,
      "outputs": [
        {
          "output_type": "error",
          "ename": "ValueError",
          "evalue": "Found input variables with inconsistent numbers of samples: [10059, 5865]",
          "traceback": [
            "\u001b[0;31m---------------------------------------------------------------------------\u001b[0m",
            "\u001b[0;31mValueError\u001b[0m                                Traceback (most recent call last)",
            "\u001b[0;32m<ipython-input-226-430202443d43>\u001b[0m in \u001b[0;36m<cell line: 18>\u001b[0;34m()\u001b[0m\n\u001b[1;32m     16\u001b[0m \u001b[0;34m\u001b[0m\u001b[0m\n\u001b[1;32m     17\u001b[0m \u001b[0;31m# Model 3\u001b[0m\u001b[0;34m\u001b[0m\u001b[0;34m\u001b[0m\u001b[0m\n\u001b[0;32m---> 18\u001b[0;31m \u001b[0mfpr3\u001b[0m\u001b[0;34m,\u001b[0m \u001b[0mtpr3\u001b[0m\u001b[0;34m,\u001b[0m \u001b[0m_\u001b[0m \u001b[0;34m=\u001b[0m \u001b[0mroc_curve\u001b[0m\u001b[0;34m(\u001b[0m\u001b[0my_val\u001b[0m\u001b[0;34m,\u001b[0m \u001b[0my_hat_XGB2_val\u001b[0m\u001b[0;34m)\u001b[0m\u001b[0;34m\u001b[0m\u001b[0;34m\u001b[0m\u001b[0m\n\u001b[0m\u001b[1;32m     19\u001b[0m \u001b[0mroc_auc3\u001b[0m \u001b[0;34m=\u001b[0m \u001b[0mauc\u001b[0m\u001b[0;34m(\u001b[0m\u001b[0mfpr3\u001b[0m\u001b[0;34m,\u001b[0m \u001b[0mtpr3\u001b[0m\u001b[0;34m)\u001b[0m\u001b[0;34m\u001b[0m\u001b[0;34m\u001b[0m\u001b[0m\n\u001b[1;32m     20\u001b[0m \u001b[0mplt\u001b[0m\u001b[0;34m.\u001b[0m\u001b[0mplot\u001b[0m\u001b[0;34m(\u001b[0m\u001b[0mfpr3\u001b[0m\u001b[0;34m,\u001b[0m \u001b[0mtpr3\u001b[0m\u001b[0;34m,\u001b[0m \u001b[0mlabel\u001b[0m\u001b[0;34m=\u001b[0m\u001b[0;34mf'META_XGBC (AUC = {roc_auc3:.2f})'\u001b[0m\u001b[0;34m)\u001b[0m\u001b[0;34m\u001b[0m\u001b[0;34m\u001b[0m\u001b[0m\n",
            "\u001b[0;32m/usr/local/lib/python3.10/dist-packages/sklearn/utils/_param_validation.py\u001b[0m in \u001b[0;36mwrapper\u001b[0;34m(*args, **kwargs)\u001b[0m\n\u001b[1;32m    211\u001b[0m                     )\n\u001b[1;32m    212\u001b[0m                 ):\n\u001b[0;32m--> 213\u001b[0;31m                     \u001b[0;32mreturn\u001b[0m \u001b[0mfunc\u001b[0m\u001b[0;34m(\u001b[0m\u001b[0;34m*\u001b[0m\u001b[0margs\u001b[0m\u001b[0;34m,\u001b[0m \u001b[0;34m**\u001b[0m\u001b[0mkwargs\u001b[0m\u001b[0;34m)\u001b[0m\u001b[0;34m\u001b[0m\u001b[0;34m\u001b[0m\u001b[0m\n\u001b[0m\u001b[1;32m    214\u001b[0m             \u001b[0;32mexcept\u001b[0m \u001b[0mInvalidParameterError\u001b[0m \u001b[0;32mas\u001b[0m \u001b[0me\u001b[0m\u001b[0;34m:\u001b[0m\u001b[0;34m\u001b[0m\u001b[0;34m\u001b[0m\u001b[0m\n\u001b[1;32m    215\u001b[0m                 \u001b[0;31m# When the function is just a wrapper around an estimator, we allow\u001b[0m\u001b[0;34m\u001b[0m\u001b[0;34m\u001b[0m\u001b[0m\n",
            "\u001b[0;32m/usr/local/lib/python3.10/dist-packages/sklearn/metrics/_ranking.py\u001b[0m in \u001b[0;36mroc_curve\u001b[0;34m(y_true, y_score, pos_label, sample_weight, drop_intermediate)\u001b[0m\n\u001b[1;32m   1143\u001b[0m     \u001b[0marray\u001b[0m\u001b[0;34m(\u001b[0m\u001b[0;34m[\u001b[0m \u001b[0minf\u001b[0m\u001b[0;34m,\u001b[0m \u001b[0;36m0.8\u001b[0m \u001b[0;34m,\u001b[0m \u001b[0;36m0.4\u001b[0m \u001b[0;34m,\u001b[0m \u001b[0;36m0.35\u001b[0m\u001b[0;34m,\u001b[0m \u001b[0;36m0.1\u001b[0m \u001b[0;34m]\u001b[0m\u001b[0;34m)\u001b[0m\u001b[0;34m\u001b[0m\u001b[0;34m\u001b[0m\u001b[0m\n\u001b[1;32m   1144\u001b[0m     \"\"\"\n\u001b[0;32m-> 1145\u001b[0;31m     fps, tps, thresholds = _binary_clf_curve(\n\u001b[0m\u001b[1;32m   1146\u001b[0m         \u001b[0my_true\u001b[0m\u001b[0;34m,\u001b[0m \u001b[0my_score\u001b[0m\u001b[0;34m,\u001b[0m \u001b[0mpos_label\u001b[0m\u001b[0;34m=\u001b[0m\u001b[0mpos_label\u001b[0m\u001b[0;34m,\u001b[0m \u001b[0msample_weight\u001b[0m\u001b[0;34m=\u001b[0m\u001b[0msample_weight\u001b[0m\u001b[0;34m\u001b[0m\u001b[0;34m\u001b[0m\u001b[0m\n\u001b[1;32m   1147\u001b[0m     )\n",
            "\u001b[0;32m/usr/local/lib/python3.10/dist-packages/sklearn/metrics/_ranking.py\u001b[0m in \u001b[0;36m_binary_clf_curve\u001b[0;34m(y_true, y_score, pos_label, sample_weight)\u001b[0m\n\u001b[1;32m    817\u001b[0m         \u001b[0;32mraise\u001b[0m \u001b[0mValueError\u001b[0m\u001b[0;34m(\u001b[0m\u001b[0;34m\"{0} format is not supported\"\u001b[0m\u001b[0;34m.\u001b[0m\u001b[0mformat\u001b[0m\u001b[0;34m(\u001b[0m\u001b[0my_type\u001b[0m\u001b[0;34m)\u001b[0m\u001b[0;34m)\u001b[0m\u001b[0;34m\u001b[0m\u001b[0;34m\u001b[0m\u001b[0m\n\u001b[1;32m    818\u001b[0m \u001b[0;34m\u001b[0m\u001b[0m\n\u001b[0;32m--> 819\u001b[0;31m     \u001b[0mcheck_consistent_length\u001b[0m\u001b[0;34m(\u001b[0m\u001b[0my_true\u001b[0m\u001b[0;34m,\u001b[0m \u001b[0my_score\u001b[0m\u001b[0;34m,\u001b[0m \u001b[0msample_weight\u001b[0m\u001b[0;34m)\u001b[0m\u001b[0;34m\u001b[0m\u001b[0;34m\u001b[0m\u001b[0m\n\u001b[0m\u001b[1;32m    820\u001b[0m     \u001b[0my_true\u001b[0m \u001b[0;34m=\u001b[0m \u001b[0mcolumn_or_1d\u001b[0m\u001b[0;34m(\u001b[0m\u001b[0my_true\u001b[0m\u001b[0;34m)\u001b[0m\u001b[0;34m\u001b[0m\u001b[0;34m\u001b[0m\u001b[0m\n\u001b[1;32m    821\u001b[0m     \u001b[0my_score\u001b[0m \u001b[0;34m=\u001b[0m \u001b[0mcolumn_or_1d\u001b[0m\u001b[0;34m(\u001b[0m\u001b[0my_score\u001b[0m\u001b[0;34m)\u001b[0m\u001b[0;34m\u001b[0m\u001b[0;34m\u001b[0m\u001b[0m\n",
            "\u001b[0;32m/usr/local/lib/python3.10/dist-packages/sklearn/utils/validation.py\u001b[0m in \u001b[0;36mcheck_consistent_length\u001b[0;34m(*arrays)\u001b[0m\n\u001b[1;32m    455\u001b[0m     \u001b[0muniques\u001b[0m \u001b[0;34m=\u001b[0m \u001b[0mnp\u001b[0m\u001b[0;34m.\u001b[0m\u001b[0munique\u001b[0m\u001b[0;34m(\u001b[0m\u001b[0mlengths\u001b[0m\u001b[0;34m)\u001b[0m\u001b[0;34m\u001b[0m\u001b[0;34m\u001b[0m\u001b[0m\n\u001b[1;32m    456\u001b[0m     \u001b[0;32mif\u001b[0m \u001b[0mlen\u001b[0m\u001b[0;34m(\u001b[0m\u001b[0muniques\u001b[0m\u001b[0;34m)\u001b[0m \u001b[0;34m>\u001b[0m \u001b[0;36m1\u001b[0m\u001b[0;34m:\u001b[0m\u001b[0;34m\u001b[0m\u001b[0;34m\u001b[0m\u001b[0m\n\u001b[0;32m--> 457\u001b[0;31m         raise ValueError(\n\u001b[0m\u001b[1;32m    458\u001b[0m             \u001b[0;34m\"Found input variables with inconsistent numbers of samples: %r\"\u001b[0m\u001b[0;34m\u001b[0m\u001b[0;34m\u001b[0m\u001b[0m\n\u001b[1;32m    459\u001b[0m             \u001b[0;34m%\u001b[0m \u001b[0;34m[\u001b[0m\u001b[0mint\u001b[0m\u001b[0;34m(\u001b[0m\u001b[0ml\u001b[0m\u001b[0;34m)\u001b[0m \u001b[0;32mfor\u001b[0m \u001b[0ml\u001b[0m \u001b[0;32min\u001b[0m \u001b[0mlengths\u001b[0m\u001b[0;34m]\u001b[0m\u001b[0;34m\u001b[0m\u001b[0;34m\u001b[0m\u001b[0m\n",
            "\u001b[0;31mValueError\u001b[0m: Found input variables with inconsistent numbers of samples: [10059, 5865]"
          ]
        },
        {
          "output_type": "display_data",
          "data": {
            "text/plain": [
              "<Figure size 1000x800 with 1 Axes>"
            ],
            "image/png": "[encoded data removed]"
          },
          "metadata": {}
        }
      ]
    },
    {
      "cell_type": "code",
      "source": [
        "# Make predictions using the best model directly on test_data\n",
        "y_hat_XGB_test = xgb.predict(test_set)\n",
        "\n",
        "# Prepare the output DataFrame\n",
        "output = pd.DataFrame({'id': test_id, 'loan_status': y_hat_XGB_test})\n",
        "\n",
        "# Remove any duplicate rows by 'PassengerId'\n",
        "output.drop_duplicates(subset='id', keep='first', inplace=True)\n",
        "\n",
        "# Save predictions to a CSV file\n",
        "output.to_csv('predictions.csv', index=False)\n",
        "files.download('predictions.csv')"
      ],
      "metadata": {
        "id": "L66a29N1jSKg",
        "outputId": "adc70fbd-341e-48ca-959e-68f7b4253ca1",
        "colab": {
          "base_uri": "https://localhost:8080/",
          "height": 17
        }
      },
      "execution_count": 258,
      "outputs": [
        {
          "output_type": "display_data",
          "data": {
            "text/plain": [
              "<IPython.core.display.Javascript object>"
            ],
            "application/javascript": [
              "\n",
              "    async function download(id, filename, size) {\n",
              "      if (!google.colab.kernel.accessAllowed) {\n",
              "        return;\n",
              "      }\n",
              "      const div = document.createElement('div');\n",
              "      const label = document.createElement('label');\n",
              "      label.textContent = `Downloading \"${filename}\": `;\n",
              "      div.appendChild(label);\n",
              "      const progress = document.createElement('progress');\n",
              "      progress.max = size;\n",
              "      div.appendChild(progress);\n",
              "      document.body.appendChild(div);\n",
              "\n",
              "      const buffers = [];\n",
              "      let downloaded = 0;\n",
              "\n",
              "      const channel = await google.colab.kernel.comms.open(id);\n",
              "      // Send a message to notify the kernel that we're ready.\n",
              "      channel.send({})\n",
              "\n",
              "      for await (const message of channel.messages) {\n",
              "        // Send a message to notify the kernel that we're ready.\n",
              "        channel.send({})\n",
              "        if (message.buffers) {\n",
              "          for (const buffer of message.buffers) {\n",
              "            buffers.push(buffer);\n",
              "            downloaded += buffer.byteLength;\n",
              "            progress.value = downloaded;\n",
              "          }\n",
              "        }\n",
              "      }\n",
              "      const blob = new Blob(buffers, {type: 'application/binary'});\n",
              "      const a = document.createElement('a');\n",
              "      a.href = window.URL.createObjectURL(blob);\n",
              "      a.download = filename;\n",
              "      div.appendChild(a);\n",
              "      a.click();\n",
              "      div.remove();\n",
              "    }\n",
              "  "
            ]
          },
          "metadata": {}
        },
        {
          "output_type": "display_data",
          "data": {
            "text/plain": [
              "<IPython.core.display.Javascript object>"
            ],
            "application/javascript": [
              "download(\"download_6accb9b8-edf7-4059-bdde-00be228c77b5\", \"predictions.csv\", 312799)"
            ]
          },
          "metadata": {}
        }
      ]
    }
  ]
}