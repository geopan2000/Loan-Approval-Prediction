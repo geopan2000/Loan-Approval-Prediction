{
  "nbformat": 4,
  "nbformat_minor": 0,
  "metadata": {
    "colab": {
      "provenance": [],
      "gpuType": "V28",
      "machine_shape": "hm",
      "authorship_tag": "ABX9TyMXKcIjJFgn9RUMv9qnYR1n",
      "include_colab_link": true
    },
    "kernelspec": {
      "name": "python3",
      "display_name": "Python 3"
    },
    "language_info": {
      "name": "python"
    },
    "accelerator": "TPU"
  },
  "cells": [
    {
      "cell_type": "markdown",
      "metadata": {
        "id": "view-in-github",
        "colab_type": "text"
      },
      "source": [
        "<a href=\"https://colab.research.google.com/github/geopan2000/Loan-Approval-Prediction/blob/main/LoanApprovalPrediction.ipynb\" target=\"_parent\"><img src=\"https://colab.research.google.com/assets/colab-badge.svg\" alt=\"Open In Colab\"/></a>"
      ]
    },
    {
      "cell_type": "code",
      "execution_count": 62,
      "metadata": {
        "id": "-qSSzXu6sNOP",
        "outputId": "dae5c312-625b-4141-f5c0-88919dc0fb91",
        "colab": {
          "base_uri": "https://localhost:8080/"
        }
      },
      "outputs": [
        {
          "output_type": "stream",
          "name": "stdout",
          "text": [
            "Cloning into 'Loan-Approval-Prediction'...\n",
            "remote: Enumerating objects: 49, done.\u001b[K\n",
            "remote: Counting objects: 100% (49/49), done.\u001b[K\n",
            "remote: Compressing objects: 100% (44/44), done.\u001b[K\n",
            "remote: Total 49 (delta 21), reused 0 (delta 0), pack-reused 0 (from 0)\u001b[K\n",
            "Receiving objects: 100% (49/49), 2.12 MiB | 5.69 MiB/s, done.\n",
            "Resolving deltas: 100% (21/21), done.\n",
            "/content/Loan-Approval-Prediction/Loan-Approval-Prediction/Loan-Approval-Prediction/Loan-Approval-Prediction/Loan-Approval-Prediction/Loan-Approval-Prediction/Loan-Approval-Prediction/Loan-Approval-Prediction\n"
          ]
        }
      ],
      "source": [
        "# Clone the GitHub repository\n",
        "!git clone https://github.com/geopan2000/Loan-Approval-Prediction.git\n",
        "\n",
        "# Change directory to the cloned repository\n",
        "%cd Loan-Approval-Prediction"
      ]
    },
    {
      "cell_type": "code",
      "source": [
        "import pandas as pd\n",
        "import numpy as np\n",
        "!pip install xgboost\n",
        "import xgboost as xgb\n",
        "\n",
        "!pip install imbalanced-learn\n",
        "!pip install scikit-optimize\n",
        "!pip install shap\n",
        "from skopt import BayesSearchCV\n",
        "from skopt.space import Real, Integer\n",
        "\n",
        "from sklearn.model_selection import KFold\n",
        "from skopt import BayesSearchCV\n",
        "from skopt.space import Real, Integer\n",
        "from sklearn.preprocessing import LabelEncoder\n",
        "import pandas as pd\n",
        "from google.colab import files"
      ],
      "metadata": {
        "colab": {
          "base_uri": "https://localhost:8080/"
        },
        "id": "82ANfQ6mVA_n",
        "outputId": "83c073c9-6665-4322-a3fd-bf1c8055d2d8"
      },
      "execution_count": 63,
      "outputs": [
        {
          "output_type": "stream",
          "name": "stdout",
          "text": [
            "Requirement already satisfied: xgboost in /usr/local/lib/python3.10/dist-packages (2.1.2)\n",
            "Requirement already satisfied: numpy in /usr/local/lib/python3.10/dist-packages (from xgboost) (1.26.4)\n",
            "Requirement already satisfied: nvidia-nccl-cu12 in /usr/local/lib/python3.10/dist-packages (from xgboost) (2.23.4)\n",
            "Requirement already satisfied: scipy in /usr/local/lib/python3.10/dist-packages (from xgboost) (1.13.1)\n",
            "Requirement already satisfied: imbalanced-learn in /usr/local/lib/python3.10/dist-packages (0.12.4)\n",
            "Requirement already satisfied: numpy>=1.17.3 in /usr/local/lib/python3.10/dist-packages (from imbalanced-learn) (1.26.4)\n",
            "Requirement already satisfied: scipy>=1.5.0 in /usr/local/lib/python3.10/dist-packages (from imbalanced-learn) (1.13.1)\n",
            "Requirement already satisfied: scikit-learn>=1.0.2 in /usr/local/lib/python3.10/dist-packages (from imbalanced-learn) (1.5.2)\n",
            "Requirement already satisfied: joblib>=1.1.1 in /usr/local/lib/python3.10/dist-packages (from imbalanced-learn) (1.4.2)\n",
            "Requirement already satisfied: threadpoolctl>=2.0.0 in /usr/local/lib/python3.10/dist-packages (from imbalanced-learn) (3.5.0)\n",
            "Requirement already satisfied: scikit-optimize in /usr/local/lib/python3.10/dist-packages (0.10.2)\n",
            "Requirement already satisfied: joblib>=0.11 in /usr/local/lib/python3.10/dist-packages (from scikit-optimize) (1.4.2)\n",
            "Requirement already satisfied: pyaml>=16.9 in /usr/local/lib/python3.10/dist-packages (from scikit-optimize) (24.9.0)\n",
            "Requirement already satisfied: numpy>=1.20.3 in /usr/local/lib/python3.10/dist-packages (from scikit-optimize) (1.26.4)\n",
            "Requirement already satisfied: scipy>=1.1.0 in /usr/local/lib/python3.10/dist-packages (from scikit-optimize) (1.13.1)\n",
            "Requirement already satisfied: scikit-learn>=1.0.0 in /usr/local/lib/python3.10/dist-packages (from scikit-optimize) (1.5.2)\n",
            "Requirement already satisfied: packaging>=21.3 in /usr/local/lib/python3.10/dist-packages (from scikit-optimize) (24.2)\n",
            "Requirement already satisfied: PyYAML in /usr/local/lib/python3.10/dist-packages (from pyaml>=16.9->scikit-optimize) (6.0.2)\n",
            "Requirement already satisfied: threadpoolctl>=3.1.0 in /usr/local/lib/python3.10/dist-packages (from scikit-learn>=1.0.0->scikit-optimize) (3.5.0)\n",
            "Requirement already satisfied: shap in /usr/local/lib/python3.10/dist-packages (0.46.0)\n",
            "Requirement already satisfied: numpy in /usr/local/lib/python3.10/dist-packages (from shap) (1.26.4)\n",
            "Requirement already satisfied: scipy in /usr/local/lib/python3.10/dist-packages (from shap) (1.13.1)\n",
            "Requirement already satisfied: scikit-learn in /usr/local/lib/python3.10/dist-packages (from shap) (1.5.2)\n",
            "Requirement already satisfied: pandas in /usr/local/lib/python3.10/dist-packages (from shap) (2.2.2)\n",
            "Requirement already satisfied: tqdm>=4.27.0 in /usr/local/lib/python3.10/dist-packages (from shap) (4.66.6)\n",
            "Requirement already satisfied: packaging>20.9 in /usr/local/lib/python3.10/dist-packages (from shap) (24.2)\n",
            "Requirement already satisfied: slicer==0.0.8 in /usr/local/lib/python3.10/dist-packages (from shap) (0.0.8)\n",
            "Requirement already satisfied: numba in /usr/local/lib/python3.10/dist-packages (from shap) (0.60.0)\n",
            "Requirement already satisfied: cloudpickle in /usr/local/lib/python3.10/dist-packages (from shap) (3.1.0)\n",
            "Requirement already satisfied: llvmlite<0.44,>=0.43.0dev0 in /usr/local/lib/python3.10/dist-packages (from numba->shap) (0.43.0)\n",
            "Requirement already satisfied: python-dateutil>=2.8.2 in /usr/local/lib/python3.10/dist-packages (from pandas->shap) (2.9.0.post0)\n",
            "Requirement already satisfied: pytz>=2020.1 in /usr/local/lib/python3.10/dist-packages (from pandas->shap) (2024.2)\n",
            "Requirement already satisfied: tzdata>=2022.7 in /usr/local/lib/python3.10/dist-packages (from pandas->shap) (2024.2)\n",
            "Requirement already satisfied: joblib>=1.2.0 in /usr/local/lib/python3.10/dist-packages (from scikit-learn->shap) (1.4.2)\n",
            "Requirement already satisfied: threadpoolctl>=3.1.0 in /usr/local/lib/python3.10/dist-packages (from scikit-learn->shap) (3.5.0)\n",
            "Requirement already satisfied: six>=1.5 in /usr/local/lib/python3.10/dist-packages (from python-dateutil>=2.8.2->pandas->shap) (1.16.0)\n"
          ]
        }
      ]
    },
    {
      "cell_type": "code",
      "source": [
        "train_set = pd.read_csv('/content/Loan-Approval-Prediction/data/train.csv') # Load train set\n",
        "test_set = pd.read_csv('/content/Loan-Approval-Prediction/data/test.csv') #Load test set"
      ],
      "metadata": {
        "id": "BhQXYq0BU5CW"
      },
      "execution_count": 64,
      "outputs": []
    },
    {
      "cell_type": "code",
      "source": [
        "print(train_set.isna().sum()) #inspect train set for possible missing values\n",
        "print(test_set.isna().sum()) #inspect test set for possible missing values"
      ],
      "metadata": {
        "colab": {
          "base_uri": "https://localhost:8080/"
        },
        "id": "EHnLYd_mVgkH",
        "outputId": "bd225364-de1e-4391-b272-1c0da00271a2"
      },
      "execution_count": 65,
      "outputs": [
        {
          "output_type": "stream",
          "name": "stdout",
          "text": [
            "id                            0\n",
            "person_age                    0\n",
            "person_income                 0\n",
            "person_home_ownership         0\n",
            "person_emp_length             0\n",
            "loan_intent                   0\n",
            "loan_grade                    0\n",
            "loan_amnt                     0\n",
            "loan_int_rate                 0\n",
            "loan_percent_income           0\n",
            "cb_person_default_on_file     0\n",
            "cb_person_cred_hist_length    0\n",
            "loan_status                   0\n",
            "dtype: int64\n",
            "id                            0\n",
            "person_age                    0\n",
            "person_income                 0\n",
            "person_home_ownership         0\n",
            "person_emp_length             0\n",
            "loan_intent                   0\n",
            "loan_grade                    0\n",
            "loan_amnt                     0\n",
            "loan_int_rate                 0\n",
            "loan_percent_income           0\n",
            "cb_person_default_on_file     0\n",
            "cb_person_cred_hist_length    0\n",
            "dtype: int64\n"
          ]
        }
      ]
    },
    {
      "cell_type": "code",
      "source": [
        "print(train_set.dtypes) #inspect data types"
      ],
      "metadata": {
        "colab": {
          "base_uri": "https://localhost:8080/"
        },
        "id": "CpoBeO1XWHuB",
        "outputId": "9318a9c2-cf4d-403a-9610-16ba3c31d451"
      },
      "execution_count": 66,
      "outputs": [
        {
          "output_type": "stream",
          "name": "stdout",
          "text": [
            "id                              int64\n",
            "person_age                      int64\n",
            "person_income                   int64\n",
            "person_home_ownership          object\n",
            "person_emp_length             float64\n",
            "loan_intent                    object\n",
            "loan_grade                     object\n",
            "loan_amnt                       int64\n",
            "loan_int_rate                 float64\n",
            "loan_percent_income           float64\n",
            "cb_person_default_on_file      object\n",
            "cb_person_cred_hist_length      int64\n",
            "loan_status                     int64\n",
            "dtype: object\n"
          ]
        }
      ]
    },
    {
      "cell_type": "code",
      "source": [
        "print('The size of the train set is:', train_set.shape)\n",
        "print('The size of the test set is:', test_set.shape) # the target variable is missing from the set"
      ],
      "metadata": {
        "colab": {
          "base_uri": "https://localhost:8080/"
        },
        "id": "HZgme57wWMTN",
        "outputId": "8a6626d5-5dbf-4844-b6c6-ddab407eacae"
      },
      "execution_count": 67,
      "outputs": [
        {
          "output_type": "stream",
          "name": "stdout",
          "text": [
            "The size of the train set is: (58645, 13)\n",
            "The size of the test set is: (39098, 12)\n"
          ]
        }
      ]
    },
    {
      "cell_type": "markdown",
      "source": [
        "**Inspect which features are object type and what are the differnet values inside them**"
      ],
      "metadata": {
        "id": "imdRxQkm-EvX"
      }
    },
    {
      "cell_type": "code",
      "source": [
        "print(train_set.info())\n",
        "print(train_set['person_home_ownership'].value_counts())\n",
        "print(train_set['loan_intent'].value_counts())\n",
        "print(train_set['loan_grade'].value_counts())\n",
        "print(train_set['cb_person_default_on_file'].value_counts())\n",
        "print(train_set['loan_status'].value_counts())"
      ],
      "metadata": {
        "colab": {
          "base_uri": "https://localhost:8080/"
        },
        "id": "ItoF4LB_YacC",
        "outputId": "415269f9-3e20-493f-b20e-3d005eb1692f"
      },
      "execution_count": 68,
      "outputs": [
        {
          "output_type": "stream",
          "name": "stdout",
          "text": [
            "<class 'pandas.core.frame.DataFrame'>\n",
            "RangeIndex: 58645 entries, 0 to 58644\n",
            "Data columns (total 13 columns):\n",
            " #   Column                      Non-Null Count  Dtype  \n",
            "---  ------                      --------------  -----  \n",
            " 0   id                          58645 non-null  int64  \n",
            " 1   person_age                  58645 non-null  int64  \n",
            " 2   person_income               58645 non-null  int64  \n",
            " 3   person_home_ownership       58645 non-null  object \n",
            " 4   person_emp_length           58645 non-null  float64\n",
            " 5   loan_intent                 58645 non-null  object \n",
            " 6   loan_grade                  58645 non-null  object \n",
            " 7   loan_amnt                   58645 non-null  int64  \n",
            " 8   loan_int_rate               58645 non-null  float64\n",
            " 9   loan_percent_income         58645 non-null  float64\n",
            " 10  cb_person_default_on_file   58645 non-null  object \n",
            " 11  cb_person_cred_hist_length  58645 non-null  int64  \n",
            " 12  loan_status                 58645 non-null  int64  \n",
            "dtypes: float64(3), int64(6), object(4)\n",
            "memory usage: 5.8+ MB\n",
            "None\n",
            "person_home_ownership\n",
            "RENT        30594\n",
            "MORTGAGE    24824\n",
            "OWN          3138\n",
            "OTHER          89\n",
            "Name: count, dtype: int64\n",
            "loan_intent\n",
            "EDUCATION            12271\n",
            "MEDICAL              10934\n",
            "PERSONAL             10016\n",
            "VENTURE              10011\n",
            "DEBTCONSOLIDATION     9133\n",
            "HOMEIMPROVEMENT       6280\n",
            "Name: count, dtype: int64\n",
            "loan_grade\n",
            "A    20984\n",
            "B    20400\n",
            "C    11036\n",
            "D     5034\n",
            "E     1009\n",
            "F      149\n",
            "G       33\n",
            "Name: count, dtype: int64\n",
            "cb_person_default_on_file\n",
            "N    49943\n",
            "Y     8702\n",
            "Name: count, dtype: int64\n",
            "loan_status\n",
            "0    50295\n",
            "1     8350\n",
            "Name: count, dtype: int64\n"
          ]
        }
      ]
    },
    {
      "cell_type": "markdown",
      "source": [
        "**Feature Engineering**"
      ],
      "metadata": {
        "id": "jeEc6xyl-Q5Q"
      }
    },
    {
      "cell_type": "code",
      "source": [
        "# Ensure to map and assign the results back to the columns\n",
        "train_set['cb_person_default_on_file'] = train_set['cb_person_default_on_file'].map({'Y': 1, 'N': 0}).astype(np.float32)\n",
        "\n",
        "# Keep a copy of the original loan_grade column before encoding\n",
        "train_set['loan_grade_0'] = train_set['loan_grade']\n",
        "\n",
        "train_set['loan_grade'] = train_set['loan_grade'].map({'A': 0.1, 'B': 0.2, 'C': 0.4, 'D': 0.5, 'E': 0.6, 'F': 0.8, 'G': 1}).astype(np.float32)\n",
        "\n",
        "# Dummy encoding for categorical columns\n",
        "train_set = pd.get_dummies(train_set, columns=['loan_grade_0', 'person_home_ownership', 'loan_intent'])\n",
        "\n",
        "# Drop the 'id' column as it's not needed\n",
        "train_set.drop(['id'], axis=1, inplace=True)\n",
        "\n",
        "# Verify data types after transformations\n",
        "print(train_set['loan_grade'].head())\n",
        "print(train_set['cb_person_default_on_file'].head())\n",
        "print(train_set.info())  # To check if all object columns have been transformed\n",
        "\n",
        "# Now apply the same steps to the test set\n",
        "test_id = test_set['id']  # Store test IDs for final submission\n",
        "\n",
        "test_set['cb_person_default_on_file'] = test_set['cb_person_default_on_file'].map({'Y': 1, 'N': 0}).astype(np.float32)\n",
        "\n",
        "test_set['loan_grade_0'] = test_set['loan_grade']\n",
        "\n",
        "test_set['loan_grade'] = test_set['loan_grade'].map({'A': 0.1, 'B': 0.2, 'C': 0.4, 'D': 0.5, 'E': 0.6, 'F': 0.8, 'G': 1}).astype(np.float32)\n",
        "\n",
        "test_set = pd.get_dummies(test_set, columns=['loan_grade_0', 'person_home_ownership', 'loan_intent'])\n",
        "test_set.drop(['id'], axis=1, inplace=True)\n",
        "\n",
        "# Verify data types after transformations for the test set\n",
        "print(test_set.info())\n"
      ],
      "metadata": {
        "id": "I3Kgkwymc1Dp",
        "colab": {
          "base_uri": "https://localhost:8080/"
        },
        "outputId": "e6c60e45-e872-4a7e-ea4e-d6324303d9bf"
      },
      "execution_count": 69,
      "outputs": [
        {
          "output_type": "stream",
          "name": "stdout",
          "text": [
            "0    0.2\n",
            "1    0.4\n",
            "2    0.1\n",
            "3    0.2\n",
            "4    0.1\n",
            "Name: loan_grade, dtype: float32\n",
            "0    0.0\n",
            "1    0.0\n",
            "2    0.0\n",
            "3    0.0\n",
            "4    0.0\n",
            "Name: cb_person_default_on_file, dtype: float32\n",
            "<class 'pandas.core.frame.DataFrame'>\n",
            "RangeIndex: 58645 entries, 0 to 58644\n",
            "Data columns (total 27 columns):\n",
            " #   Column                          Non-Null Count  Dtype  \n",
            "---  ------                          --------------  -----  \n",
            " 0   person_age                      58645 non-null  int64  \n",
            " 1   person_income                   58645 non-null  int64  \n",
            " 2   person_emp_length               58645 non-null  float64\n",
            " 3   loan_grade                      58645 non-null  float32\n",
            " 4   loan_amnt                       58645 non-null  int64  \n",
            " 5   loan_int_rate                   58645 non-null  float64\n",
            " 6   loan_percent_income             58645 non-null  float64\n",
            " 7   cb_person_default_on_file       58645 non-null  float32\n",
            " 8   cb_person_cred_hist_length      58645 non-null  int64  \n",
            " 9   loan_status                     58645 non-null  int64  \n",
            " 10  loan_grade_0_A                  58645 non-null  bool   \n",
            " 11  loan_grade_0_B                  58645 non-null  bool   \n",
            " 12  loan_grade_0_C                  58645 non-null  bool   \n",
            " 13  loan_grade_0_D                  58645 non-null  bool   \n",
            " 14  loan_grade_0_E                  58645 non-null  bool   \n",
            " 15  loan_grade_0_F                  58645 non-null  bool   \n",
            " 16  loan_grade_0_G                  58645 non-null  bool   \n",
            " 17  person_home_ownership_MORTGAGE  58645 non-null  bool   \n",
            " 18  person_home_ownership_OTHER     58645 non-null  bool   \n",
            " 19  person_home_ownership_OWN       58645 non-null  bool   \n",
            " 20  person_home_ownership_RENT      58645 non-null  bool   \n",
            " 21  loan_intent_DEBTCONSOLIDATION   58645 non-null  bool   \n",
            " 22  loan_intent_EDUCATION           58645 non-null  bool   \n",
            " 23  loan_intent_HOMEIMPROVEMENT     58645 non-null  bool   \n",
            " 24  loan_intent_MEDICAL             58645 non-null  bool   \n",
            " 25  loan_intent_PERSONAL            58645 non-null  bool   \n",
            " 26  loan_intent_VENTURE             58645 non-null  bool   \n",
            "dtypes: bool(17), float32(2), float64(3), int64(5)\n",
            "memory usage: 5.0 MB\n",
            "None\n",
            "<class 'pandas.core.frame.DataFrame'>\n",
            "RangeIndex: 39098 entries, 0 to 39097\n",
            "Data columns (total 26 columns):\n",
            " #   Column                          Non-Null Count  Dtype  \n",
            "---  ------                          --------------  -----  \n",
            " 0   person_age                      39098 non-null  int64  \n",
            " 1   person_income                   39098 non-null  int64  \n",
            " 2   person_emp_length               39098 non-null  float64\n",
            " 3   loan_grade                      39098 non-null  float32\n",
            " 4   loan_amnt                       39098 non-null  int64  \n",
            " 5   loan_int_rate                   39098 non-null  float64\n",
            " 6   loan_percent_income             39098 non-null  float64\n",
            " 7   cb_person_default_on_file       39098 non-null  float32\n",
            " 8   cb_person_cred_hist_length      39098 non-null  int64  \n",
            " 9   loan_grade_0_A                  39098 non-null  bool   \n",
            " 10  loan_grade_0_B                  39098 non-null  bool   \n",
            " 11  loan_grade_0_C                  39098 non-null  bool   \n",
            " 12  loan_grade_0_D                  39098 non-null  bool   \n",
            " 13  loan_grade_0_E                  39098 non-null  bool   \n",
            " 14  loan_grade_0_F                  39098 non-null  bool   \n",
            " 15  loan_grade_0_G                  39098 non-null  bool   \n",
            " 16  person_home_ownership_MORTGAGE  39098 non-null  bool   \n",
            " 17  person_home_ownership_OTHER     39098 non-null  bool   \n",
            " 18  person_home_ownership_OWN       39098 non-null  bool   \n",
            " 19  person_home_ownership_RENT      39098 non-null  bool   \n",
            " 20  loan_intent_DEBTCONSOLIDATION   39098 non-null  bool   \n",
            " 21  loan_intent_EDUCATION           39098 non-null  bool   \n",
            " 22  loan_intent_HOMEIMPROVEMENT     39098 non-null  bool   \n",
            " 23  loan_intent_MEDICAL             39098 non-null  bool   \n",
            " 24  loan_intent_PERSONAL            39098 non-null  bool   \n",
            " 25  loan_intent_VENTURE             39098 non-null  bool   \n",
            "dtypes: bool(17), float32(2), float64(3), int64(4)\n",
            "memory usage: 3.0 MB\n",
            "None\n"
          ]
        }
      ]
    },
    {
      "cell_type": "markdown",
      "source": [
        "**Feature Engineering: Part2-create new features that might help increasing the accuracy**"
      ],
      "metadata": {
        "id": "ItiQC9Q4_Dye"
      }
    },
    {
      "cell_type": "code",
      "source": [
        "# 1. Interaction between Income and Employment Length\n",
        "train_set['income_emp_interaction'] = train_set['person_income'] * train_set['person_emp_length']\n",
        "\n",
        "# 2. Interaction between Loan Amount and Interest Rate\n",
        "train_set['loan_interest_interaction'] = train_set['loan_amnt'] * train_set['loan_int_rate']\n",
        "\n",
        "# 3. Normalized Loan and Interest by Income\n",
        "train_set['normalized_loan'] = train_set['loan_amnt'] / (train_set['person_income'] + 1)\n",
        "train_set['normalized_interest'] = train_set['loan_int_rate'] / (train_set['person_income'] + 1)\n",
        "\n",
        "# 4. Income Stability Score (income scaled by employment length)\n",
        "train_set['income_stability_score'] = train_set['person_income'] / (train_set['person_emp_length'] + 1)\n",
        "\n",
        "# 5. Age-Adjusted Income (income divided by age)\n",
        "train_set['age_adjusted_income'] = train_set['person_income'] / (train_set['person_age'] + 1)\n",
        "\n",
        "# 6. Log-Transformed Income and Loan Amount (reducing skewness)\n",
        "train_set['log_income'] = np.log1p(train_set['person_income'])\n",
        "train_set['log_loan_amnt'] = np.log1p(train_set['loan_amnt'])\n",
        "\n",
        "# Repeat for test set:\n",
        "test_set['income_emp_interaction'] = test_set['person_income'] * test_set['person_emp_length']\n",
        "test_set['loan_interest_interaction'] = test_set['loan_amnt'] * test_set['loan_int_rate']\n",
        "test_set['normalized_loan'] = test_set['loan_amnt'] / (test_set['person_income'] + 1)\n",
        "test_set['normalized_interest'] = test_set['loan_int_rate'] / (test_set['person_income'] + 1)\n",
        "test_set['income_stability_score'] = test_set['person_income'] / (test_set['person_emp_length'] +1)\n",
        "test_set['age_adjusted_income'] = test_set['person_income'] / (test_set['person_age'] +1)\n",
        "test_set['log_income'] = np.log1p(test_set['person_income'])\n",
        "test_set['log_loan_amnt'] = np.log1p(test_set['loan_amnt'])"
      ],
      "metadata": {
        "id": "ES5PKgEjENYS"
      },
      "execution_count": 71,
      "outputs": []
    },
    {
      "cell_type": "code",
      "source": [
        "from sklearn.model_selection import train_test_split\n",
        "from imblearn.over_sampling import SMOTE\n",
        "import pandas as pd\n",
        "\n",
        "# Separate features and target\n",
        "y = train_set['loan_status']\n",
        "X = train_set.drop(['loan_status'], axis=1)\n",
        "\n",
        "# Initial split for training and validation\n",
        "X_train, X_val, y_train, y_val = train_test_split(X, y, test_size=0.1, stratify=y, random_state=42)\n",
        "\n",
        "# Initialize SMOTE to oversample the minority class\n",
        "smote = SMOTE(sampling_strategy=0.3, random_state=42)\n",
        "\n",
        "# Oversample the training set\n",
        "X_train, y_train = smote.fit_resample(X_train, y_train)\n",
        "\n",
        "# Convert back to DataFrame to maintain column names\n",
        "X_train = pd.DataFrame(X_train, columns=X.columns)\n",
        "X_val = pd.DataFrame(X_val, columns=X.columns)\n",
        "\n",
        "# Shuffle the training and validation sets after resampling\n",
        "X_train, y_train = X_train.sample(frac=1, random_state=42).reset_index(drop=True), y_train.sample(frac=1, random_state=42).reset_index(drop=True)\n",
        "X_val, y_val = X_val.sample(frac=1, random_state=42).reset_index(drop=True), y_val.sample(frac=1, random_state=42).reset_index(drop=True)\n",
        "\n",
        "# Print the count of True and False in both train and validation sets\n",
        "print(\"Training set class distribution:\\n\", y_train.value_counts())\n",
        "print(\"Validation set class distribution:\\n\", y_val.value_counts())\n"
      ],
      "metadata": {
        "id": "9heULvwrIMuj",
        "colab": {
          "base_uri": "https://localhost:8080/"
        },
        "outputId": "a7c0a7bb-0d3b-407d-8de0-f5d9128162b8"
      },
      "execution_count": 72,
      "outputs": [
        {
          "output_type": "stream",
          "name": "stdout",
          "text": [
            "Training set class distribution:\n",
            " loan_status\n",
            "0    45265\n",
            "1    13579\n",
            "Name: count, dtype: int64\n",
            "Validation set class distribution:\n",
            " loan_status\n",
            "0    5030\n",
            "1     835\n",
            "Name: count, dtype: int64\n"
          ]
        }
      ]
    },
    {
      "cell_type": "markdown",
      "source": [
        " **Predicting Using XGB**"
      ],
      "metadata": {
        "id": "aloTLDjYdCjb"
      }
    },
    {
      "cell_type": "code",
      "source": [
        "# Define parameter search space\n",
        "search_spaces = {\n",
        "    'learning_rate': Real(0.001, 0.5, 'uniform'),\n",
        "    'max_depth': Integer(2, 7),\n",
        "    'n_estimators': Integer(100, 500),\n",
        "    'subsample': Real(0.5, 1.0, 'uniform'),\n",
        "    'colsample_bytree': Real(0.5, 1.0, 'uniform'),\n",
        "    'gamma': Real(0, 10, 'uniform'),\n",
        "    'reg_alpha': Real(0, 10, 'uniform'),\n",
        "    'reg_lambda': Real(0, 10, 'uniform')\n",
        "}\n",
        "\n",
        "# Initialize the XGBClassifier model with GPU support\n",
        "model = xgb.XGBClassifier(\n",
        "    objective='binary:logistic',  # Use for binary classification\n",
        "    tree_method='hist',  # Use GPU for training\n",
        "    verbosity=2\n",
        ")\n",
        "\n",
        "kf = KFold(n_splits=5)  # 10-fold cross-validation\n",
        "\n",
        "# Using 'accuracy' as the scoring metric (can be changed to roc_auc, f1, etc.)\n",
        "optimizer = BayesSearchCV(\n",
        "    estimator=model,\n",
        "    search_spaces=search_spaces,\n",
        "    n_iter=32,\n",
        "    cv=kf,\n",
        "    scoring='roc_auc',\n",
        "    verbose=1,\n",
        "    n_jobs=-1,\n",
        "    return_train_score=True\n",
        ")\n",
        "\n",
        "# Fit the optimizer using X_train and y_train (classification labels, not log-transformed)\n",
        "optimizer.fit(X_train, y_train)\n",
        "\n",
        "# Get the best model\n",
        "xgb = optimizer.best_estimator_\n",
        "\n",
        "# Get cross-validation results\n",
        "cv_results = optimizer.cv_results_\n",
        "\n",
        "# Print best parameters and mean accuracy\n",
        "mean_accuracy = cv_results['mean_test_score']  # Mean accuracy for each fold\n",
        "\n",
        "print(f\"Best parameters: {optimizer.best_params_}\")\n",
        "print(f\"Mean Cross-validation Accuracy: {mean_accuracy.mean():.4f}\")\n",
        "print(f\"Cross-validation Accuracy for each iteration: {mean_accuracy}\")\n",
        "\n",
        "print(\"Optimization complete. Best XGBoost classifier model saved.\")"
      ],
      "metadata": {
        "id": "wX3MIeAGSXYP",
        "outputId": "bc2e80fb-f3c6-48f9-c9b0-ab43061c070e",
        "colab": {
          "base_uri": "https://localhost:8080/"
        }
      },
      "execution_count": 74,
      "outputs": [
        {
          "output_type": "stream",
          "name": "stdout",
          "text": [
            "Fitting 5 folds for each of 1 candidates, totalling 5 fits\n",
            "Fitting 5 folds for each of 1 candidates, totalling 5 fits\n",
            "Fitting 5 folds for each of 1 candidates, totalling 5 fits\n",
            "Fitting 5 folds for each of 1 candidates, totalling 5 fits\n",
            "Fitting 5 folds for each of 1 candidates, totalling 5 fits\n",
            "Fitting 5 folds for each of 1 candidates, totalling 5 fits\n",
            "Fitting 5 folds for each of 1 candidates, totalling 5 fits\n",
            "Fitting 5 folds for each of 1 candidates, totalling 5 fits\n",
            "Fitting 5 folds for each of 1 candidates, totalling 5 fits\n",
            "Fitting 5 folds for each of 1 candidates, totalling 5 fits\n",
            "Fitting 5 folds for each of 1 candidates, totalling 5 fits\n",
            "Fitting 5 folds for each of 1 candidates, totalling 5 fits\n",
            "Fitting 5 folds for each of 1 candidates, totalling 5 fits\n",
            "Fitting 5 folds for each of 1 candidates, totalling 5 fits\n",
            "Fitting 5 folds for each of 1 candidates, totalling 5 fits\n",
            "Fitting 5 folds for each of 1 candidates, totalling 5 fits\n",
            "Fitting 5 folds for each of 1 candidates, totalling 5 fits\n",
            "Fitting 5 folds for each of 1 candidates, totalling 5 fits\n",
            "Fitting 5 folds for each of 1 candidates, totalling 5 fits\n",
            "Fitting 5 folds for each of 1 candidates, totalling 5 fits\n",
            "Fitting 5 folds for each of 1 candidates, totalling 5 fits\n",
            "Fitting 5 folds for each of 1 candidates, totalling 5 fits\n",
            "Fitting 5 folds for each of 1 candidates, totalling 5 fits\n",
            "Fitting 5 folds for each of 1 candidates, totalling 5 fits\n",
            "Fitting 5 folds for each of 1 candidates, totalling 5 fits\n",
            "Fitting 5 folds for each of 1 candidates, totalling 5 fits\n",
            "Fitting 5 folds for each of 1 candidates, totalling 5 fits\n",
            "Fitting 5 folds for each of 1 candidates, totalling 5 fits\n",
            "Fitting 5 folds for each of 1 candidates, totalling 5 fits\n",
            "Fitting 5 folds for each of 1 candidates, totalling 5 fits\n",
            "Fitting 5 folds for each of 1 candidates, totalling 5 fits\n",
            "Fitting 5 folds for each of 1 candidates, totalling 5 fits\n",
            "Best parameters: OrderedDict([('colsample_bytree', 0.9264471418425695), ('gamma', 0.5774428024014434), ('learning_rate', 0.1075973049157936), ('max_depth', 7), ('n_estimators', 482), ('reg_alpha', 3.909717260998733), ('reg_lambda', 0.7622668877980522), ('subsample', 0.9862834849985981)])\n",
            "Mean Cross-validation Accuracy: 0.9673\n",
            "Cross-validation Accuracy for each iteration: [0.9685806  0.97122489 0.9639246  0.96495856 0.96334557 0.96664384\n",
            " 0.9431368  0.96602714 0.96360367 0.96870766 0.97141815 0.93828864\n",
            " 0.9683738  0.97350527 0.97232873 0.97212161 0.97406109 0.9722748\n",
            " 0.96562419 0.97285773 0.96566735 0.9638752  0.9735782  0.97506317\n",
            " 0.9639663  0.97230348 0.97091387 0.96980045 0.97034199 0.96668745\n",
            " 0.96853291 0.97300869]\n",
            "Optimization complete. Best XGBoost classifier model saved.\n"
          ]
        }
      ]
    },
    {
      "cell_type": "code",
      "source": [
        "from sklearn.metrics import roc_auc_score, classification_report\n",
        "\n",
        "y_pred_prob_XGB_train = xgb.predict_proba(X_train)\n",
        "print(roc_auc_score(y_train, y_pred_prob_XGB_train[:, 1]))\n",
        "\n",
        "y_pred_prob_XGB_val = xgb.predict_proba(X_val)\n",
        "print(roc_auc_score(y_val, y_pred_prob_XGB_val[:, 1]))"
      ],
      "metadata": {
        "id": "FxA2U3R8f5Zb",
        "outputId": "ff65c861-c742-432f-d89e-b0ac10a1f74b",
        "colab": {
          "base_uri": "https://localhost:8080/"
        }
      },
      "execution_count": 75,
      "outputs": [
        {
          "output_type": "stream",
          "name": "stdout",
          "text": [
            "0.9896649182477928\n",
            "0.9551976762181402\n"
          ]
        }
      ]
    },
    {
      "cell_type": "markdown",
      "source": [
        " **Predicting using Logistic Regression**"
      ],
      "metadata": {
        "id": "JsDLi-Tyy82d"
      }
    },
    {
      "cell_type": "code",
      "source": [
        "from sklearn import linear_model\n",
        "\n",
        "logr = linear_model.LogisticRegression(solver = 'saga', max_iter=20000)\n",
        "logr.fit(X_train,y_train)\n",
        "\n",
        "y_pred_prob_LR_train = logr.predict_log_proba(X_train)\n",
        "print(roc_auc_score(y_train, y_pred_prob_LR_train[:, 1]))\n",
        "\n",
        "y_pred_prob_LR_val = logr.predict_log_proba(X_val)\n",
        "print(roc_auc_score(y_val, y_pred_prob_LR_val[:, 1]))"
      ],
      "metadata": {
        "colab": {
          "base_uri": "https://localhost:8080/"
        },
        "id": "INf5BMHCMqjz",
        "outputId": "5e653240-71d7-43d9-d63a-5a055a4b3124"
      },
      "execution_count": 76,
      "outputs": [
        {
          "output_type": "stream",
          "name": "stdout",
          "text": [
            "0.8329359112749447\n",
            "0.8426342543541148\n"
          ]
        }
      ]
    },
    {
      "cell_type": "markdown",
      "source": [
        "** Adding the predictions as new features**"
      ],
      "metadata": {
        "id": "E0q-BEjHzMU-"
      }
    },
    {
      "cell_type": "code",
      "source": [
        "# Make predictions using the best model directly on test_data\n",
        "y_pred_prob_XGB_test = xgb.predict_proba(test_set)[:, 1]\n",
        "\n",
        "# Prepare the output DataFrame\n",
        "output = pd.DataFrame({'id': test_id.values, 'loan_status': y_pred_prob_XGB_test})\n",
        "\n",
        "# Remove any duplicate rows by 'PassengerId'\n",
        "output.drop_duplicates(subset='id', keep='first', inplace=True)\n",
        "\n",
        "# Save predictions to a CSV file\n",
        "output.to_csv('predictions.csv', index=False)\n",
        "files.download('predictions.csv')"
      ],
      "metadata": {
        "id": "L66a29N1jSKg",
        "outputId": "e0301ad3-339b-4e68-af11-75fcfa2772ef",
        "colab": {
          "base_uri": "https://localhost:8080/",
          "height": 17
        }
      },
      "execution_count": 79,
      "outputs": [
        {
          "output_type": "display_data",
          "data": {
            "text/plain": [
              "<IPython.core.display.Javascript object>"
            ],
            "application/javascript": [
              "\n",
              "    async function download(id, filename, size) {\n",
              "      if (!google.colab.kernel.accessAllowed) {\n",
              "        return;\n",
              "      }\n",
              "      const div = document.createElement('div');\n",
              "      const label = document.createElement('label');\n",
              "      label.textContent = `Downloading \"${filename}\": `;\n",
              "      div.appendChild(label);\n",
              "      const progress = document.createElement('progress');\n",
              "      progress.max = size;\n",
              "      div.appendChild(progress);\n",
              "      document.body.appendChild(div);\n",
              "\n",
              "      const buffers = [];\n",
              "      let downloaded = 0;\n",
              "\n",
              "      const channel = await google.colab.kernel.comms.open(id);\n",
              "      // Send a message to notify the kernel that we're ready.\n",
              "      channel.send({})\n",
              "\n",
              "      for await (const message of channel.messages) {\n",
              "        // Send a message to notify the kernel that we're ready.\n",
              "        channel.send({})\n",
              "        if (message.buffers) {\n",
              "          for (const buffer of message.buffers) {\n",
              "            buffers.push(buffer);\n",
              "            downloaded += buffer.byteLength;\n",
              "            progress.value = downloaded;\n",
              "          }\n",
              "        }\n",
              "      }\n",
              "      const blob = new Blob(buffers, {type: 'application/binary'});\n",
              "      const a = document.createElement('a');\n",
              "      a.href = window.URL.createObjectURL(blob);\n",
              "      a.download = filename;\n",
              "      div.appendChild(a);\n",
              "      a.click();\n",
              "      div.remove();\n",
              "    }\n",
              "  "
            ]
          },
          "metadata": {}
        },
        {
          "output_type": "display_data",
          "data": {
            "text/plain": [
              "<IPython.core.display.Javascript object>"
            ],
            "application/javascript": [
              "download(\"download_6f2efa8a-d350-4099-97dd-ec77db7bb372\", \"predictions.csv\", 692196)"
            ]
          },
          "metadata": {}
        }
      ]
    }
  ]
}